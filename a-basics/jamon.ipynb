{
 "cells": [
  {
   "cell_type": "markdown",
   "id": "eb9f7a00-3c4e-4413-81cd-563c643ac4f4",
   "metadata": {},
   "source": [
    "# Intro to jamon 🍕"
   ]
  },
  {
   "cell_type": "code",
   "execution_count": 4,
   "id": "a8f4d8bb-8f8e-4c9f-b021-957160a53c94",
   "metadata": {},
   "outputs": [
    {
     "data": {
      "text/plain": [
       "10"
      ]
     },
     "execution_count": 4,
     "metadata": {},
     "output_type": "execute_result"
    }
   ],
   "source": [
    "1+2+3+4"
   ]
  },
  {
   "cell_type": "markdown",
   "id": "0118ad24-668c-4947-be3b-13a02029f960",
   "metadata": {},
   "source": [
    "# hola"
   ]
  },
  {
   "cell_type": "markdown",
   "id": "4fe740cb-8b28-49cb-9e0e-cf7664304d41",
   "metadata": {},
   "source": [
    "1+2"
   ]
  },
  {
   "cell_type": "code",
   "execution_count": 5,
   "id": "26f1c9e4-48c1-4020-92c7-3b2c910d4e36",
   "metadata": {},
   "outputs": [
    {
     "data": {
      "text/plain": [
       "3"
      ]
     },
     "execution_count": 5,
     "metadata": {},
     "output_type": "execute_result"
    }
   ],
   "source": [
    "1+2"
   ]
  },
  {
   "cell_type": "code",
   "execution_count": 6,
   "id": "c0f8504e-46d3-4102-bb64-e247a4584b3f",
   "metadata": {},
   "outputs": [
    {
     "data": {
      "text/plain": [
       "102"
      ]
     },
     "execution_count": 6,
     "metadata": {},
     "output_type": "execute_result"
    }
   ],
   "source": [
    "2+100"
   ]
  },
  {
   "cell_type": "code",
   "execution_count": null,
   "id": "7add1f8d-baaa-4f8e-9a2d-eca9a448bd7d",
   "metadata": {},
   "outputs": [],
   "source": []
  },
  {
   "cell_type": "code",
   "execution_count": null,
   "id": "1bdb4901-3ae9-4947-94ec-f0dc8aa8eabc",
   "metadata": {},
   "outputs": [],
   "source": []
  }
 ],
 "metadata": {
  "kernelspec": {
   "display_name": "Python 3 (ipykernel)",
   "language": "python",
   "name": "python3"
  },
  "language_info": {
   "codemirror_mode": {
    "name": "ipython",
    "version": 3
   },
   "file_extension": ".py",
   "mimetype": "text/x-python",
   "name": "python",
   "nbconvert_exporter": "python",
   "pygments_lexer": "ipython3",
   "version": "3.11.8"
  }
 },
 "nbformat": 4,
 "nbformat_minor": 5
}
