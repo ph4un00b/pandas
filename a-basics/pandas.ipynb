{
 "cells": [
  {
   "cell_type": "code",
   "execution_count": 5,
   "id": "cd9d4fc7-fcc2-4437-a742-7d6a70c9bcac",
   "metadata": {},
   "outputs": [
    {
     "data": {
      "text/plain": [
       "['fresa', 'guayaba', 'jicama', 'pera']"
      ]
     },
     "execution_count": 5,
     "metadata": {},
     "output_type": "execute_result"
    }
   ],
   "source": [
    "import pandas as pd\n",
    "\n",
    "colores = ['fresa', 'guayaba', 'jicama', 'pera']\n",
    "colores"
   ]
  },
  {
   "cell_type": "markdown",
   "id": "25802ed7-c0b9-4534-858b-6ddcec2df981",
   "metadata": {},
   "source": [
    "## Series is equivalent to a column in csv/xls❗"
   ]
  },
  {
   "cell_type": "code",
   "execution_count": 4,
   "id": "06da4830-bd31-4293-868f-7437cad072a4",
   "metadata": {},
   "outputs": [
    {
     "data": {
      "text/plain": [
       "0      fresa\n",
       "1    guayaba\n",
       "2     jicama\n",
       "3       pera\n",
       "dtype: object"
      ]
     },
     "execution_count": 4,
     "metadata": {},
     "output_type": "execute_result"
    }
   ],
   "source": [
    "serie = pd.Series(colores)\n",
    "serie\n"
   ]
  },
  {
   "cell_type": "code",
   "execution_count": 7,
   "id": "c0dbc077-3914-42c8-8e1f-d3598a02f8b8",
   "metadata": {},
   "outputs": [
    {
     "data": {
      "text/plain": [
       "0    2\n",
       "1    4\n",
       "2    6\n",
       "3    8\n",
       "dtype: int64"
      ]
     },
     "execution_count": 7,
     "metadata": {},
     "output_type": "execute_result"
    }
   ],
   "source": [
    "numerikos = [2,4,6,8]\n",
    "serie = pd.Series(numerikos)\n",
    "serie"
   ]
  },
  {
   "cell_type": "markdown",
   "id": "e18eee3b-06c0-472e-b951-9c6020f023be",
   "metadata": {},
   "source": [
    "## dictionary"
   ]
  },
  {
   "cell_type": "code",
   "execution_count": 86,
   "id": "40a34060-95c4-4ee9-9c93-a9fc8e07cc1d",
   "metadata": {},
   "outputs": [
    {
     "data": {
      "text/plain": [
       "hola       8.0\n",
       "todo       2.0\n",
       "bien❓      2.0\n",
       "vuestra    3.0\n",
       "madre      3.0\n",
       "esta       3.0\n",
       "bien       7.0\n",
       "bonika     NaN\n",
       "dtype: float64"
      ]
     },
     "execution_count": 86,
     "metadata": {},
     "output_type": "execute_result"
    }
   ],
   "source": [
    "dict = { \"hola\": 8, \"todo\": 2, \"bien❓\": 2, \"vuestra\": 3, \"madre\": 3, \"esta\": 3, \"bien\": 7, \"bonika\": None }\n",
    "serie = pd.Series(dict)\n",
    "serie"
   ]
  },
  {
   "cell_type": "code",
   "execution_count": 87,
   "id": "e1941087-75da-4c4f-988c-49ac3c4a32ea",
   "metadata": {},
   "outputs": [
    {
     "data": {
      "text/plain": [
       "hola    8.0\n",
       "todo    2.0\n",
       "dtype: float64"
      ]
     },
     "execution_count": 87,
     "metadata": {},
     "output_type": "execute_result"
    }
   ],
   "source": [
    "serie.head(2)\n",
    "#print(serie.head())"
   ]
  },
  {
   "cell_type": "code",
   "execution_count": 88,
   "id": "10258921-40f6-478d-9791-4f32920b1864",
   "metadata": {},
   "outputs": [
    {
     "data": {
      "text/plain": [
       "bien      7.0\n",
       "bonika    NaN\n",
       "dtype: float64"
      ]
     },
     "execution_count": 88,
     "metadata": {},
     "output_type": "execute_result"
    }
   ],
   "source": [
    "serie.tail(2)"
   ]
  },
  {
   "cell_type": "code",
   "execution_count": 89,
   "id": "6f5b67de-61de-4fdf-869b-4fdab620375b",
   "metadata": {},
   "outputs": [
    {
     "data": {
      "text/plain": [
       "count    7.00000\n",
       "mean     4.00000\n",
       "std      2.44949\n",
       "min      2.00000\n",
       "25%      2.50000\n",
       "50%      3.00000\n",
       "75%      5.00000\n",
       "max      8.00000\n",
       "dtype: float64"
      ]
     },
     "execution_count": 89,
     "metadata": {},
     "output_type": "execute_result"
    }
   ],
   "source": [
    "serie.describe()"
   ]
  },
  {
   "cell_type": "code",
   "execution_count": 90,
   "id": "08633f14-818a-434c-806e-60999140e21d",
   "metadata": {},
   "outputs": [],
   "source": [
    "serie[\"jamon\"] = 1"
   ]
  },
  {
   "cell_type": "code",
   "execution_count": 91,
   "id": "38cabb22-5a3a-4482-bc49-2a146d7b974a",
   "metadata": {},
   "outputs": [
    {
     "data": {
      "text/plain": [
       "3.0    3\n",
       "2.0    2\n",
       "8.0    1\n",
       "7.0    1\n",
       "1.0    1\n",
       "Name: count, dtype: int64"
      ]
     },
     "execution_count": 91,
     "metadata": {},
     "output_type": "execute_result"
    }
   ],
   "source": [
    "serie.value_counts()"
   ]
  },
  {
   "cell_type": "code",
   "execution_count": 92,
   "id": "88a18130-b98c-4c42-ac14-99af6b2f7bb7",
   "metadata": {},
   "outputs": [
    {
     "data": {
      "text/plain": [
       "array([ 8.,  2.,  3.,  7., nan,  1.])"
      ]
     },
     "execution_count": 92,
     "metadata": {},
     "output_type": "execute_result"
    }
   ],
   "source": [
    "serie.unique()"
   ]
  },
  {
   "cell_type": "code",
   "execution_count": 93,
   "id": "e4183856-0b92-40e6-834a-d4401611fd64",
   "metadata": {},
   "outputs": [
    {
     "data": {
      "text/plain": [
       "5"
      ]
     },
     "execution_count": 93,
     "metadata": {},
     "output_type": "execute_result"
    }
   ],
   "source": [
    "serie.nunique()"
   ]
  },
  {
   "cell_type": "code",
   "execution_count": 94,
   "id": "913378db-814d-424e-89fa-25dcb214eb11",
   "metadata": {},
   "outputs": [
    {
     "data": {
      "text/plain": [
       "jamon      1.0\n",
       "todo       2.0\n",
       "bien❓      2.0\n",
       "vuestra    3.0\n",
       "madre      3.0\n",
       "esta       3.0\n",
       "bien       7.0\n",
       "hola       8.0\n",
       "bonika     NaN\n",
       "dtype: float64"
      ]
     },
     "execution_count": 94,
     "metadata": {},
     "output_type": "execute_result"
    }
   ],
   "source": [
    "serie.sort_values()"
   ]
  },
  {
   "cell_type": "code",
   "execution_count": 95,
   "id": "4b8b69dc-c560-4afb-9fd0-a145410301aa",
   "metadata": {},
   "outputs": [
    {
     "data": {
      "text/plain": [
       "'jamon'"
      ]
     },
     "execution_count": 95,
     "metadata": {},
     "output_type": "execute_result"
    }
   ],
   "source": [
    "serie.idxmin()"
   ]
  },
  {
   "cell_type": "code",
   "execution_count": 96,
   "id": "52c4923e-520c-47a9-a0df-e2c1711d73f4",
   "metadata": {},
   "outputs": [
    {
     "data": {
      "text/plain": [
       "'hola'"
      ]
     },
     "execution_count": 96,
     "metadata": {},
     "output_type": "execute_result"
    }
   ],
   "source": [
    "serie.idxmax()"
   ]
  },
  {
   "cell_type": "code",
   "execution_count": 97,
   "id": "81fa884d-84a4-41c2-a60e-6c54c4f5474e",
   "metadata": {},
   "outputs": [
    {
     "data": {
      "text/plain": [
       "1.0"
      ]
     },
     "execution_count": 97,
     "metadata": {},
     "output_type": "execute_result"
    }
   ],
   "source": [
    "serie.min()"
   ]
  },
  {
   "cell_type": "code",
   "execution_count": 98,
   "id": "27aa5e0f-de63-475b-8ff3-9309cb548638",
   "metadata": {},
   "outputs": [
    {
     "data": {
      "text/plain": [
       "8.0"
      ]
     },
     "execution_count": 98,
     "metadata": {},
     "output_type": "execute_result"
    }
   ],
   "source": [
    "serie.max()"
   ]
  },
  {
   "cell_type": "code",
   "execution_count": 99,
   "id": "95013816-edec-4576-b6b4-e3db682df372",
   "metadata": {},
   "outputs": [
    {
     "data": {
      "text/plain": [
       "29.0"
      ]
     },
     "execution_count": 99,
     "metadata": {},
     "output_type": "execute_result"
    }
   ],
   "source": [
    "serie.sum()"
   ]
  },
  {
   "cell_type": "code",
   "execution_count": 100,
   "id": "e9e09654-0d0f-4cc8-a964-414b07a20b84",
   "metadata": {},
   "outputs": [
    {
     "data": {
      "text/plain": [
       "8"
      ]
     },
     "execution_count": 100,
     "metadata": {},
     "output_type": "execute_result"
    }
   ],
   "source": [
    "serie.count()"
   ]
  },
  {
   "cell_type": "code",
   "execution_count": 101,
   "id": "044ba150-fdab-4440-9f76-15e72bbfec29",
   "metadata": {},
   "outputs": [
    {
     "name": "stdout",
     "output_type": "stream",
     "text": [
      "<class 'pandas.core.series.Series'>\n",
      "Index: 9 entries, hola to jamon\n",
      "Series name: None\n",
      "Non-Null Count  Dtype  \n",
      "--------------  -----  \n",
      "8 non-null      float64\n",
      "dtypes: float64(1)\n",
      "memory usage: 144.0+ bytes\n"
     ]
    }
   ],
   "source": [
    "serie.info()"
   ]
  },
  {
   "cell_type": "code",
   "execution_count": 103,
   "id": "29d3d317-8fad-4d34-9c5e-abe00045fb9f",
   "metadata": {},
   "outputs": [
    {
     "data": {
      "text/plain": [
       "hola         8.0\n",
       "todo         2.0\n",
       "bien❓        2.0\n",
       "vuestra      3.0\n",
       "madre        3.0\n",
       "esta         3.0\n",
       "bien         7.0\n",
       "bonika     100.0\n",
       "jamon        1.0\n",
       "dtype: float64"
      ]
     },
     "execution_count": 103,
     "metadata": {},
     "output_type": "execute_result"
    }
   ],
   "source": [
    "serie.fillna(100)"
   ]
  },
  {
   "cell_type": "code",
   "execution_count": 104,
   "id": "a311c3b8-ffd1-45be-a46e-767a42ee851b",
   "metadata": {},
   "outputs": [
    {
     "data": {
      "text/plain": [
       "hola       8.0\n",
       "todo       2.0\n",
       "bien❓      2.0\n",
       "vuestra    3.0\n",
       "madre      3.0\n",
       "esta       3.0\n",
       "bien       7.0\n",
       "jamon      1.0\n",
       "dtype: float64"
      ]
     },
     "execution_count": 104,
     "metadata": {},
     "output_type": "execute_result"
    }
   ],
   "source": [
    "serie.dropna()"
   ]
  },
  {
   "cell_type": "code",
   "execution_count": null,
   "id": "ae92b076-a50b-482e-b6d7-2344849ea0f6",
   "metadata": {},
   "outputs": [],
   "source": []
  }
 ],
 "metadata": {
  "kernelspec": {
   "display_name": "Python 3 (ipykernel)",
   "language": "python",
   "name": "python3"
  },
  "language_info": {
   "codemirror_mode": {
    "name": "ipython",
    "version": 3
   },
   "file_extension": ".py",
   "mimetype": "text/x-python",
   "name": "python",
   "nbconvert_exporter": "python",
   "pygments_lexer": "ipython3",
   "version": "3.11.8"
  }
 },
 "nbformat": 4,
 "nbformat_minor": 5
}
