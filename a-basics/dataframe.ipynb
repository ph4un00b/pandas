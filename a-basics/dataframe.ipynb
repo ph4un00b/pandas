{
 "cells": [
  {
   "cell_type": "code",
   "execution_count": 1,
   "id": "93c8616d-7255-405c-895f-9493a4c42af9",
   "metadata": {},
   "outputs": [],
   "source": [
    "import pandas as pd"
   ]
  },
  {
   "cell_type": "code",
   "execution_count": 2,
   "id": "f3fe04d8-078e-4859-a76d-e7a188dadec7",
   "metadata": {},
   "outputs": [
    {
     "data": {
      "text/plain": [
       "'2.2.1'"
      ]
     },
     "execution_count": 2,
     "metadata": {},
     "output_type": "execute_result"
    }
   ],
   "source": [
    "pd.__version__"
   ]
  },
  {
   "cell_type": "code",
   "execution_count": 3,
   "id": "7fe974dd-3d73-44d9-bae3-095c165578eb",
   "metadata": {},
   "outputs": [
    {
     "data": {
      "text/html": [
       "<div>\n",
       "<style scoped>\n",
       "    .dataframe tbody tr th:only-of-type {\n",
       "        vertical-align: middle;\n",
       "    }\n",
       "\n",
       "    .dataframe tbody tr th {\n",
       "        vertical-align: top;\n",
       "    }\n",
       "\n",
       "    .dataframe thead th {\n",
       "        text-align: right;\n",
       "    }\n",
       "</style>\n",
       "<table border=\"1\" class=\"dataframe\">\n",
       "  <thead>\n",
       "    <tr style=\"text-align: right;\">\n",
       "      <th></th>\n",
       "      <th>title</th>\n",
       "      <th>url</th>\n",
       "      <th>rating</th>\n",
       "      <th>num_reviews</th>\n",
       "      <th>num_published_lectures</th>\n",
       "      <th>created</th>\n",
       "      <th>last_update_date</th>\n",
       "      <th>duration</th>\n",
       "      <th>instructors_id</th>\n",
       "      <th>image</th>\n",
       "    </tr>\n",
       "    <tr>\n",
       "      <th>id</th>\n",
       "      <th></th>\n",
       "      <th></th>\n",
       "      <th></th>\n",
       "      <th></th>\n",
       "      <th></th>\n",
       "      <th></th>\n",
       "      <th></th>\n",
       "      <th></th>\n",
       "      <th></th>\n",
       "      <th></th>\n",
       "    </tr>\n",
       "  </thead>\n",
       "  <tbody>\n",
       "    <tr>\n",
       "      <th>567828</th>\n",
       "      <td>The Complete Python Bootcamp From Zero to Hero...</td>\n",
       "      <td>/course/complete-python-bootcamp/</td>\n",
       "      <td>4.592782</td>\n",
       "      <td>452973</td>\n",
       "      <td>155</td>\n",
       "      <td>2015-07-29 00:12:23+00:00</td>\n",
       "      <td>2021-03-14</td>\n",
       "      <td>22 total hours</td>\n",
       "      <td>9685726</td>\n",
       "      <td>https://img-c.udemycdn.com/course/750x422/5678...</td>\n",
       "    </tr>\n",
       "    <tr>\n",
       "      <th>1565838</th>\n",
       "      <td>The Complete 2023 Web Development Bootcamp</td>\n",
       "      <td>/course/the-complete-web-development-bootcamp/</td>\n",
       "      <td>4.667258</td>\n",
       "      <td>263152</td>\n",
       "      <td>490</td>\n",
       "      <td>2018-02-22 12:02:33+00:00</td>\n",
       "      <td>2023-01-20</td>\n",
       "      <td>65.5 total hours</td>\n",
       "      <td>31334738</td>\n",
       "      <td>https://img-c.udemycdn.com/course/750x422/1565...</td>\n",
       "    </tr>\n",
       "    <tr>\n",
       "      <th>625204</th>\n",
       "      <td>The Web Developer Bootcamp 2023</td>\n",
       "      <td>/course/the-web-developer-bootcamp/</td>\n",
       "      <td>4.696147</td>\n",
       "      <td>254711</td>\n",
       "      <td>616</td>\n",
       "      <td>2015-09-28 21:32:19+00:00</td>\n",
       "      <td>2023-02-12</td>\n",
       "      <td>64 total hours</td>\n",
       "      <td>4466306</td>\n",
       "      <td>https://img-c.udemycdn.com/course/750x422/6252...</td>\n",
       "    </tr>\n",
       "    <tr>\n",
       "      <th>756150</th>\n",
       "      <td>Angular - The Complete Guide (2023 Edition)</td>\n",
       "      <td>/course/the-complete-guide-to-angular-2/</td>\n",
       "      <td>4.592692</td>\n",
       "      <td>180257</td>\n",
       "      <td>472</td>\n",
       "      <td>2016-02-08 17:02:55+00:00</td>\n",
       "      <td>2023-02-06</td>\n",
       "      <td>34.5 total hours</td>\n",
       "      <td>13952972</td>\n",
       "      <td>https://img-c.udemycdn.com/course/750x422/7561...</td>\n",
       "    </tr>\n",
       "    <tr>\n",
       "      <th>2776760</th>\n",
       "      <td>100 Days of Code: The Complete Python Pro Boot...</td>\n",
       "      <td>/course/100-days-of-code/</td>\n",
       "      <td>4.695252</td>\n",
       "      <td>177568</td>\n",
       "      <td>676</td>\n",
       "      <td>2020-01-24 10:47:21+00:00</td>\n",
       "      <td>2022-11-30</td>\n",
       "      <td>64 total hours</td>\n",
       "      <td>31334738</td>\n",
       "      <td>https://img-c.udemycdn.com/course/750x422/2776...</td>\n",
       "    </tr>\n",
       "  </tbody>\n",
       "</table>\n",
       "</div>"
      ],
      "text/plain": [
       "                                                     title  \\\n",
       "id                                                           \n",
       "567828   The Complete Python Bootcamp From Zero to Hero...   \n",
       "1565838         The Complete 2023 Web Development Bootcamp   \n",
       "625204                     The Web Developer Bootcamp 2023   \n",
       "756150         Angular - The Complete Guide (2023 Edition)   \n",
       "2776760  100 Days of Code: The Complete Python Pro Boot...   \n",
       "\n",
       "                                                    url    rating  \\\n",
       "id                                                                  \n",
       "567828                /course/complete-python-bootcamp/  4.592782   \n",
       "1565838  /course/the-complete-web-development-bootcamp/  4.667258   \n",
       "625204              /course/the-web-developer-bootcamp/  4.696147   \n",
       "756150         /course/the-complete-guide-to-angular-2/  4.592692   \n",
       "2776760                       /course/100-days-of-code/  4.695252   \n",
       "\n",
       "         num_reviews  num_published_lectures                   created  \\\n",
       "id                                                                       \n",
       "567828        452973                     155 2015-07-29 00:12:23+00:00   \n",
       "1565838       263152                     490 2018-02-22 12:02:33+00:00   \n",
       "625204        254711                     616 2015-09-28 21:32:19+00:00   \n",
       "756150        180257                     472 2016-02-08 17:02:55+00:00   \n",
       "2776760       177568                     676 2020-01-24 10:47:21+00:00   \n",
       "\n",
       "        last_update_date          duration  instructors_id  \\\n",
       "id                                                           \n",
       "567828        2021-03-14    22 total hours         9685726   \n",
       "1565838       2023-01-20  65.5 total hours        31334738   \n",
       "625204        2023-02-12    64 total hours         4466306   \n",
       "756150        2023-02-06  34.5 total hours        13952972   \n",
       "2776760       2022-11-30    64 total hours        31334738   \n",
       "\n",
       "                                                     image  \n",
       "id                                                          \n",
       "567828   https://img-c.udemycdn.com/course/750x422/5678...  \n",
       "1565838  https://img-c.udemycdn.com/course/750x422/1565...  \n",
       "625204   https://img-c.udemycdn.com/course/750x422/6252...  \n",
       "756150   https://img-c.udemycdn.com/course/750x422/7561...  \n",
       "2776760  https://img-c.udemycdn.com/course/750x422/2776...  "
      ]
     },
     "execution_count": 3,
     "metadata": {},
     "output_type": "execute_result"
    }
   ],
   "source": [
    "df_1 = pd.read_csv('courses.csv', index_col='id', parse_dates=['created'])\n",
    "df = df_1.copy()\n",
    "df.head()"
   ]
  },
  {
   "cell_type": "markdown",
   "id": "71c44c33-1d30-4eb8-84a8-ea064e02b1c3",
   "metadata": {},
   "source": [
    "## check for nans❗"
   ]
  },
  {
   "cell_type": "code",
   "execution_count": 4,
   "id": "749e9639-1ec5-423e-95e2-9715c42d74d8",
   "metadata": {},
   "outputs": [
    {
     "data": {
      "text/plain": [
       "False"
      ]
     },
     "execution_count": 4,
     "metadata": {},
     "output_type": "execute_result"
    }
   ],
   "source": [
    "df['rating'].hasnans"
   ]
  },
  {
   "cell_type": "markdown",
   "id": "6f96916e-7bbf-4a89-8be5-1bfbd06a97ed",
   "metadata": {},
   "source": [
    "## count all Nans in each column❗❗"
   ]
  },
  {
   "cell_type": "code",
   "execution_count": 5,
   "id": "064935a3-8d24-4522-a44e-009e05bbfc95",
   "metadata": {},
   "outputs": [
    {
     "data": {
      "text/plain": [
       "title                      0\n",
       "url                        0\n",
       "rating                     0\n",
       "num_reviews                0\n",
       "num_published_lectures     0\n",
       "created                    0\n",
       "last_update_date          78\n",
       "duration                   0\n",
       "instructors_id             0\n",
       "image                      0\n",
       "dtype: int64"
      ]
     },
     "execution_count": 5,
     "metadata": {},
     "output_type": "execute_result"
    }
   ],
   "source": [
    "missing_vals = df.isnull().sum()\n",
    "missing_vals"
   ]
  },
  {
   "cell_type": "markdown",
   "id": "c1b7c965-c51e-4f2e-8ee7-7789c2b394de",
   "metadata": {},
   "source": [
    "## replace in-place❗"
   ]
  },
  {
   "cell_type": "code",
   "execution_count": 6,
   "id": "fcc2c0fe-532c-4368-b2ff-314ee1722b07",
   "metadata": {},
   "outputs": [],
   "source": [
    "# df['rating_filled'] = df['rating'].fillna(df['rating'].mean(), inplace=True)\n",
    "# missing_vals = df.isnull().sum()\n",
    "# missing_vals"
   ]
  },
  {
   "cell_type": "code",
   "execution_count": 7,
   "id": "1d7ca4db-1cea-43c1-b6ff-f1342f00fef2",
   "metadata": {},
   "outputs": [
    {
     "name": "stderr",
     "output_type": "stream",
     "text": [
      "/tmp/ipykernel_76944/1170289955.py:3: FutureWarning: A value is trying to be set on a copy of a DataFrame or Series through chained assignment using an inplace method.\n",
      "The behavior will change in pandas 3.0. This inplace method will never work because the intermediate object on which we are setting values always behaves as a copy.\n",
      "\n",
      "For example, when doing 'df[col].method(value, inplace=True)', try using 'df.method({col: value}, inplace=True)' or df[col] = df[col].method(value) instead, to perform the operation inplace on the original object.\n",
      "\n",
      "\n",
      "  df['rating_copy'].fillna(mean, inplace=True)\n"
     ]
    },
    {
     "data": {
      "text/plain": [
       "title                      0\n",
       "url                        0\n",
       "rating                     0\n",
       "num_reviews                0\n",
       "num_published_lectures     0\n",
       "created                    0\n",
       "last_update_date          78\n",
       "duration                   0\n",
       "instructors_id             0\n",
       "image                      0\n",
       "rating_copy                0\n",
       "dtype: int64"
      ]
     },
     "execution_count": 7,
     "metadata": {},
     "output_type": "execute_result"
    }
   ],
   "source": [
    "df['rating_copy'] = df['rating'].copy()\n",
    "mean = df['rating'].mean()\n",
    "df['rating_copy'].fillna(mean, inplace=True)\n",
    "missing_vals = df.isnull().sum()\n",
    "missing_vals"
   ]
  },
  {
   "cell_type": "markdown",
   "id": "08a73e17-117b-414a-ad48-706b3f4fa90f",
   "metadata": {},
   "source": [
    "## or removing missing values❗"
   ]
  },
  {
   "cell_type": "code",
   "execution_count": 8,
   "id": "a086d2d7-d9dc-4a5e-bfba-88644efba67f",
   "metadata": {},
   "outputs": [
    {
     "data": {
      "text/plain": [
       "title                     0\n",
       "url                       0\n",
       "rating                    0\n",
       "num_reviews               0\n",
       "num_published_lectures    0\n",
       "created                   0\n",
       "last_update_date          0\n",
       "duration                  0\n",
       "instructors_id            0\n",
       "image                     0\n",
       "rating_copy               0\n",
       "dtype: int64"
      ]
     },
     "execution_count": 8,
     "metadata": {},
     "output_type": "execute_result"
    }
   ],
   "source": [
    "df_cleaned = df.dropna(subset=['last_update_date']) # 👀 only specific colummn❗\n",
    "# df_cleaned = df.dropna(axis=0, how='any') 👀 when any column has NaN\n",
    "# df_cleaned = df.dropna(axis=0, how='all') 👀 when the whole row is NaN\n",
    "missing_vals = df_cleaned.isnull().sum()\n",
    "missing_vals"
   ]
  },
  {
   "cell_type": "markdown",
   "id": "77dc6952-585a-4309-93e0-9ab5600122b1",
   "metadata": {},
   "source": [
    "## string to integer❗"
   ]
  },
  {
   "cell_type": "code",
   "execution_count": 11,
   "id": "3f587037-c72d-4d16-9ec8-46e66eeb1ad0",
   "metadata": {},
   "outputs": [
    {
     "name": "stderr",
     "output_type": "stream",
     "text": [
      "/tmp/ipykernel_76944/1871215632.py:1: SettingWithCopyWarning: \n",
      "A value is trying to be set on a copy of a slice from a DataFrame.\n",
      "Try using .loc[row_indexer,col_indexer] = value instead\n",
      "\n",
      "See the caveats in the documentation: https://pandas.pydata.org/pandas-docs/stable/user_guide/indexing.html#returning-a-view-versus-a-copy\n",
      "  df_cleaned['duration_cleaned'] = df_cleaned['duration'].str.extract('(\\d+)').astype(float)\n"
     ]
    },
    {
     "data": {
      "text/plain": [
       "id\n",
       "567828     22.0\n",
       "1565838    65.0\n",
       "625204     64.0\n",
       "756150     34.0\n",
       "2776760    64.0\n",
       "Name: duration_cleaned, dtype: float64"
      ]
     },
     "execution_count": 11,
     "metadata": {},
     "output_type": "execute_result"
    }
   ],
   "source": [
    "df_cleaned['duration_cleaned'] = df_cleaned['duration'].str.extract('(\\d+)').astype(float)\n",
    "df_cleaned['duration_cleaned'].head()"
   ]
  },
  {
   "cell_type": "code",
   "execution_count": 18,
   "id": "bfeaf6b8-6d2f-4909-8065-001d00081a6a",
   "metadata": {},
   "outputs": [
    {
     "name": "stderr",
     "output_type": "stream",
     "text": [
      "/tmp/ipykernel_76944/3985580683.py:2: SettingWithCopyWarning: \n",
      "A value is trying to be set on a copy of a slice from a DataFrame.\n",
      "Try using .loc[row_indexer,col_indexer] = value instead\n",
      "\n",
      "See the caveats in the documentation: https://pandas.pydata.org/pandas-docs/stable/user_guide/indexing.html#returning-a-view-versus-a-copy\n",
      "  df_cleaned['rating_group'] = pd.cut(df_cleaned['rating'], bins=bins, labels=[1,2,3,4,5], include_lowest=True)\n"
     ]
    },
    {
     "data": {
      "text/html": [
       "<div>\n",
       "<style scoped>\n",
       "    .dataframe tbody tr th:only-of-type {\n",
       "        vertical-align: middle;\n",
       "    }\n",
       "\n",
       "    .dataframe tbody tr th {\n",
       "        vertical-align: top;\n",
       "    }\n",
       "\n",
       "    .dataframe thead th {\n",
       "        text-align: right;\n",
       "    }\n",
       "</style>\n",
       "<table border=\"1\" class=\"dataframe\">\n",
       "  <thead>\n",
       "    <tr style=\"text-align: right;\">\n",
       "      <th></th>\n",
       "      <th>title</th>\n",
       "      <th>url</th>\n",
       "      <th>rating</th>\n",
       "      <th>num_reviews</th>\n",
       "      <th>num_published_lectures</th>\n",
       "      <th>created</th>\n",
       "      <th>last_update_date</th>\n",
       "      <th>duration</th>\n",
       "      <th>instructors_id</th>\n",
       "      <th>image</th>\n",
       "      <th>rating_copy</th>\n",
       "      <th>duration_cleaned</th>\n",
       "      <th>rating_group</th>\n",
       "    </tr>\n",
       "    <tr>\n",
       "      <th>id</th>\n",
       "      <th></th>\n",
       "      <th></th>\n",
       "      <th></th>\n",
       "      <th></th>\n",
       "      <th></th>\n",
       "      <th></th>\n",
       "      <th></th>\n",
       "      <th></th>\n",
       "      <th></th>\n",
       "      <th></th>\n",
       "      <th></th>\n",
       "      <th></th>\n",
       "      <th></th>\n",
       "    </tr>\n",
       "  </thead>\n",
       "  <tbody>\n",
       "    <tr>\n",
       "      <th>567828</th>\n",
       "      <td>The Complete Python Bootcamp From Zero to Hero...</td>\n",
       "      <td>/course/complete-python-bootcamp/</td>\n",
       "      <td>4.592782</td>\n",
       "      <td>452973</td>\n",
       "      <td>155</td>\n",
       "      <td>2015-07-29 00:12:23+00:00</td>\n",
       "      <td>2021-03-14</td>\n",
       "      <td>22 total hours</td>\n",
       "      <td>9685726</td>\n",
       "      <td>https://img-c.udemycdn.com/course/750x422/5678...</td>\n",
       "      <td>4.592782</td>\n",
       "      <td>22.0</td>\n",
       "      <td>5</td>\n",
       "    </tr>\n",
       "    <tr>\n",
       "      <th>1565838</th>\n",
       "      <td>The Complete 2023 Web Development Bootcamp</td>\n",
       "      <td>/course/the-complete-web-development-bootcamp/</td>\n",
       "      <td>4.667258</td>\n",
       "      <td>263152</td>\n",
       "      <td>490</td>\n",
       "      <td>2018-02-22 12:02:33+00:00</td>\n",
       "      <td>2023-01-20</td>\n",
       "      <td>65.5 total hours</td>\n",
       "      <td>31334738</td>\n",
       "      <td>https://img-c.udemycdn.com/course/750x422/1565...</td>\n",
       "      <td>4.667258</td>\n",
       "      <td>65.0</td>\n",
       "      <td>5</td>\n",
       "    </tr>\n",
       "    <tr>\n",
       "      <th>625204</th>\n",
       "      <td>The Web Developer Bootcamp 2023</td>\n",
       "      <td>/course/the-web-developer-bootcamp/</td>\n",
       "      <td>4.696147</td>\n",
       "      <td>254711</td>\n",
       "      <td>616</td>\n",
       "      <td>2015-09-28 21:32:19+00:00</td>\n",
       "      <td>2023-02-12</td>\n",
       "      <td>64 total hours</td>\n",
       "      <td>4466306</td>\n",
       "      <td>https://img-c.udemycdn.com/course/750x422/6252...</td>\n",
       "      <td>4.696147</td>\n",
       "      <td>64.0</td>\n",
       "      <td>5</td>\n",
       "    </tr>\n",
       "    <tr>\n",
       "      <th>756150</th>\n",
       "      <td>Angular - The Complete Guide (2023 Edition)</td>\n",
       "      <td>/course/the-complete-guide-to-angular-2/</td>\n",
       "      <td>4.592692</td>\n",
       "      <td>180257</td>\n",
       "      <td>472</td>\n",
       "      <td>2016-02-08 17:02:55+00:00</td>\n",
       "      <td>2023-02-06</td>\n",
       "      <td>34.5 total hours</td>\n",
       "      <td>13952972</td>\n",
       "      <td>https://img-c.udemycdn.com/course/750x422/7561...</td>\n",
       "      <td>4.592692</td>\n",
       "      <td>34.0</td>\n",
       "      <td>5</td>\n",
       "    </tr>\n",
       "    <tr>\n",
       "      <th>2776760</th>\n",
       "      <td>100 Days of Code: The Complete Python Pro Boot...</td>\n",
       "      <td>/course/100-days-of-code/</td>\n",
       "      <td>4.695252</td>\n",
       "      <td>177568</td>\n",
       "      <td>676</td>\n",
       "      <td>2020-01-24 10:47:21+00:00</td>\n",
       "      <td>2022-11-30</td>\n",
       "      <td>64 total hours</td>\n",
       "      <td>31334738</td>\n",
       "      <td>https://img-c.udemycdn.com/course/750x422/2776...</td>\n",
       "      <td>4.695252</td>\n",
       "      <td>64.0</td>\n",
       "      <td>5</td>\n",
       "    </tr>\n",
       "  </tbody>\n",
       "</table>\n",
       "</div>"
      ],
      "text/plain": [
       "                                                     title  \\\n",
       "id                                                           \n",
       "567828   The Complete Python Bootcamp From Zero to Hero...   \n",
       "1565838         The Complete 2023 Web Development Bootcamp   \n",
       "625204                     The Web Developer Bootcamp 2023   \n",
       "756150         Angular - The Complete Guide (2023 Edition)   \n",
       "2776760  100 Days of Code: The Complete Python Pro Boot...   \n",
       "\n",
       "                                                    url    rating  \\\n",
       "id                                                                  \n",
       "567828                /course/complete-python-bootcamp/  4.592782   \n",
       "1565838  /course/the-complete-web-development-bootcamp/  4.667258   \n",
       "625204              /course/the-web-developer-bootcamp/  4.696147   \n",
       "756150         /course/the-complete-guide-to-angular-2/  4.592692   \n",
       "2776760                       /course/100-days-of-code/  4.695252   \n",
       "\n",
       "         num_reviews  num_published_lectures                   created  \\\n",
       "id                                                                       \n",
       "567828        452973                     155 2015-07-29 00:12:23+00:00   \n",
       "1565838       263152                     490 2018-02-22 12:02:33+00:00   \n",
       "625204        254711                     616 2015-09-28 21:32:19+00:00   \n",
       "756150        180257                     472 2016-02-08 17:02:55+00:00   \n",
       "2776760       177568                     676 2020-01-24 10:47:21+00:00   \n",
       "\n",
       "        last_update_date          duration  instructors_id  \\\n",
       "id                                                           \n",
       "567828        2021-03-14    22 total hours         9685726   \n",
       "1565838       2023-01-20  65.5 total hours        31334738   \n",
       "625204        2023-02-12    64 total hours         4466306   \n",
       "756150        2023-02-06  34.5 total hours        13952972   \n",
       "2776760       2022-11-30    64 total hours        31334738   \n",
       "\n",
       "                                                     image  rating_copy  \\\n",
       "id                                                                        \n",
       "567828   https://img-c.udemycdn.com/course/750x422/5678...     4.592782   \n",
       "1565838  https://img-c.udemycdn.com/course/750x422/1565...     4.667258   \n",
       "625204   https://img-c.udemycdn.com/course/750x422/6252...     4.696147   \n",
       "756150   https://img-c.udemycdn.com/course/750x422/7561...     4.592692   \n",
       "2776760  https://img-c.udemycdn.com/course/750x422/2776...     4.695252   \n",
       "\n",
       "         duration_cleaned rating_group  \n",
       "id                                      \n",
       "567828               22.0            5  \n",
       "1565838              65.0            5  \n",
       "625204               64.0            5  \n",
       "756150               34.0            5  \n",
       "2776760              64.0            5  "
      ]
     },
     "execution_count": 18,
     "metadata": {},
     "output_type": "execute_result"
    }
   ],
   "source": [
    "bins = [0,1,2,3,4,5]\n",
    "df_cleaned['rating_group'] = pd.cut(df_cleaned['rating'], bins=bins, labels=[1,2,3,4,5], include_lowest=True)\n",
    "df_cleaned.head()"
   ]
  },
  {
   "cell_type": "code",
   "execution_count": 20,
   "id": "22125a83-fc6a-42fb-916c-cd1d2e891325",
   "metadata": {},
   "outputs": [
    {
     "data": {
      "text/html": [
       "<div>\n",
       "<style scoped>\n",
       "    .dataframe tbody tr th:only-of-type {\n",
       "        vertical-align: middle;\n",
       "    }\n",
       "\n",
       "    .dataframe tbody tr th {\n",
       "        vertical-align: top;\n",
       "    }\n",
       "\n",
       "    .dataframe thead th {\n",
       "        text-align: right;\n",
       "    }\n",
       "</style>\n",
       "<table border=\"1\" class=\"dataframe\">\n",
       "  <thead>\n",
       "    <tr style=\"text-align: right;\">\n",
       "      <th></th>\n",
       "      <th>rating</th>\n",
       "      <th>rating_group</th>\n",
       "      <th>duration_cleaned</th>\n",
       "      <th>duration</th>\n",
       "    </tr>\n",
       "    <tr>\n",
       "      <th>id</th>\n",
       "      <th></th>\n",
       "      <th></th>\n",
       "      <th></th>\n",
       "      <th></th>\n",
       "    </tr>\n",
       "  </thead>\n",
       "  <tbody>\n",
       "    <tr>\n",
       "      <th>567828</th>\n",
       "      <td>4.592782</td>\n",
       "      <td>5</td>\n",
       "      <td>22.0</td>\n",
       "      <td>22 total hours</td>\n",
       "    </tr>\n",
       "    <tr>\n",
       "      <th>1565838</th>\n",
       "      <td>4.667258</td>\n",
       "      <td>5</td>\n",
       "      <td>65.0</td>\n",
       "      <td>65.5 total hours</td>\n",
       "    </tr>\n",
       "    <tr>\n",
       "      <th>625204</th>\n",
       "      <td>4.696147</td>\n",
       "      <td>5</td>\n",
       "      <td>64.0</td>\n",
       "      <td>64 total hours</td>\n",
       "    </tr>\n",
       "    <tr>\n",
       "      <th>756150</th>\n",
       "      <td>4.592692</td>\n",
       "      <td>5</td>\n",
       "      <td>34.0</td>\n",
       "      <td>34.5 total hours</td>\n",
       "    </tr>\n",
       "    <tr>\n",
       "      <th>2776760</th>\n",
       "      <td>4.695252</td>\n",
       "      <td>5</td>\n",
       "      <td>64.0</td>\n",
       "      <td>64 total hours</td>\n",
       "    </tr>\n",
       "    <tr>\n",
       "      <th>...</th>\n",
       "      <td>...</td>\n",
       "      <td>...</td>\n",
       "      <td>...</td>\n",
       "      <td>...</td>\n",
       "    </tr>\n",
       "    <tr>\n",
       "      <th>5029000</th>\n",
       "      <td>1.500000</td>\n",
       "      <td>2</td>\n",
       "      <td>1.0</td>\n",
       "      <td>1 total hour</td>\n",
       "    </tr>\n",
       "    <tr>\n",
       "      <th>4694354</th>\n",
       "      <td>0.000000</td>\n",
       "      <td>1</td>\n",
       "      <td>1.0</td>\n",
       "      <td>1.5 total hours</td>\n",
       "    </tr>\n",
       "    <tr>\n",
       "      <th>4668986</th>\n",
       "      <td>0.000000</td>\n",
       "      <td>1</td>\n",
       "      <td>39.0</td>\n",
       "      <td>39 total mins</td>\n",
       "    </tr>\n",
       "    <tr>\n",
       "      <th>4954150</th>\n",
       "      <td>0.000000</td>\n",
       "      <td>1</td>\n",
       "      <td>1.0</td>\n",
       "      <td>1.5 total hours</td>\n",
       "    </tr>\n",
       "    <tr>\n",
       "      <th>4545520</th>\n",
       "      <td>0.000000</td>\n",
       "      <td>1</td>\n",
       "      <td>31.0</td>\n",
       "      <td>31 total mins</td>\n",
       "    </tr>\n",
       "  </tbody>\n",
       "</table>\n",
       "<p>83026 rows × 4 columns</p>\n",
       "</div>"
      ],
      "text/plain": [
       "           rating rating_group  duration_cleaned          duration\n",
       "id                                                                \n",
       "567828   4.592782            5              22.0    22 total hours\n",
       "1565838  4.667258            5              65.0  65.5 total hours\n",
       "625204   4.696147            5              64.0    64 total hours\n",
       "756150   4.592692            5              34.0  34.5 total hours\n",
       "2776760  4.695252            5              64.0    64 total hours\n",
       "...           ...          ...               ...               ...\n",
       "5029000  1.500000            2               1.0      1 total hour\n",
       "4694354  0.000000            1               1.0   1.5 total hours\n",
       "4668986  0.000000            1              39.0     39 total mins\n",
       "4954150  0.000000            1               1.0   1.5 total hours\n",
       "4545520  0.000000            1              31.0     31 total mins\n",
       "\n",
       "[83026 rows x 4 columns]"
      ]
     },
     "execution_count": 20,
     "metadata": {},
     "output_type": "execute_result"
    }
   ],
   "source": [
    "selected_cols = df_cleaned[['rating', 'rating_group', 'duration_cleaned', 'duration']]\n",
    "selected_cols"
   ]
  },
  {
   "cell_type": "markdown",
   "id": "fd5cabfd-9ce1-4d71-8d2b-982967867903",
   "metadata": {},
   "source": [
    "## sort by column❗"
   ]
  },
  {
   "cell_type": "code",
   "execution_count": 23,
   "id": "b05bb3c2-a849-4c2a-94d4-7208a94337b3",
   "metadata": {},
   "outputs": [
    {
     "data": {
      "text/html": [
       "<div>\n",
       "<style scoped>\n",
       "    .dataframe tbody tr th:only-of-type {\n",
       "        vertical-align: middle;\n",
       "    }\n",
       "\n",
       "    .dataframe tbody tr th {\n",
       "        vertical-align: top;\n",
       "    }\n",
       "\n",
       "    .dataframe thead th {\n",
       "        text-align: right;\n",
       "    }\n",
       "</style>\n",
       "<table border=\"1\" class=\"dataframe\">\n",
       "  <thead>\n",
       "    <tr style=\"text-align: right;\">\n",
       "      <th></th>\n",
       "      <th>title</th>\n",
       "      <th>url</th>\n",
       "      <th>rating</th>\n",
       "      <th>num_reviews</th>\n",
       "      <th>num_published_lectures</th>\n",
       "      <th>created</th>\n",
       "      <th>last_update_date</th>\n",
       "      <th>duration</th>\n",
       "      <th>instructors_id</th>\n",
       "      <th>image</th>\n",
       "      <th>rating_copy</th>\n",
       "      <th>duration_cleaned</th>\n",
       "      <th>rating_group</th>\n",
       "    </tr>\n",
       "    <tr>\n",
       "      <th>id</th>\n",
       "      <th></th>\n",
       "      <th></th>\n",
       "      <th></th>\n",
       "      <th></th>\n",
       "      <th></th>\n",
       "      <th></th>\n",
       "      <th></th>\n",
       "      <th></th>\n",
       "      <th></th>\n",
       "      <th></th>\n",
       "      <th></th>\n",
       "      <th></th>\n",
       "      <th></th>\n",
       "    </tr>\n",
       "  </thead>\n",
       "  <tbody>\n",
       "    <tr>\n",
       "      <th>567828</th>\n",
       "      <td>The Complete Python Bootcamp From Zero to Hero...</td>\n",
       "      <td>/course/complete-python-bootcamp/</td>\n",
       "      <td>4.592782</td>\n",
       "      <td>452973</td>\n",
       "      <td>155</td>\n",
       "      <td>2015-07-29 00:12:23+00:00</td>\n",
       "      <td>2021-03-14</td>\n",
       "      <td>22 total hours</td>\n",
       "      <td>9685726</td>\n",
       "      <td>https://img-c.udemycdn.com/course/750x422/5678...</td>\n",
       "      <td>4.592782</td>\n",
       "      <td>22.0</td>\n",
       "      <td>5</td>\n",
       "    </tr>\n",
       "    <tr>\n",
       "      <th>793796</th>\n",
       "      <td>Microsoft Excel - Excel from Beginner to Advanced</td>\n",
       "      <td>/course/microsoft-excel-2013-from-beginner-to-...</td>\n",
       "      <td>4.659531</td>\n",
       "      <td>357442</td>\n",
       "      <td>254</td>\n",
       "      <td>2016-03-15 16:43:36+00:00</td>\n",
       "      <td>2023-01-17</td>\n",
       "      <td>21 total hours</td>\n",
       "      <td>16649710</td>\n",
       "      <td>https://img-c.udemycdn.com/course/750x422/7937...</td>\n",
       "      <td>4.659531</td>\n",
       "      <td>21.0</td>\n",
       "      <td>5</td>\n",
       "    </tr>\n",
       "    <tr>\n",
       "      <th>1565838</th>\n",
       "      <td>The Complete 2023 Web Development Bootcamp</td>\n",
       "      <td>/course/the-complete-web-development-bootcamp/</td>\n",
       "      <td>4.667258</td>\n",
       "      <td>263152</td>\n",
       "      <td>490</td>\n",
       "      <td>2018-02-22 12:02:33+00:00</td>\n",
       "      <td>2023-01-20</td>\n",
       "      <td>65.5 total hours</td>\n",
       "      <td>31334738</td>\n",
       "      <td>https://img-c.udemycdn.com/course/750x422/1565...</td>\n",
       "      <td>4.667258</td>\n",
       "      <td>65.0</td>\n",
       "      <td>5</td>\n",
       "    </tr>\n",
       "    <tr>\n",
       "      <th>625204</th>\n",
       "      <td>The Web Developer Bootcamp 2023</td>\n",
       "      <td>/course/the-web-developer-bootcamp/</td>\n",
       "      <td>4.696147</td>\n",
       "      <td>254711</td>\n",
       "      <td>616</td>\n",
       "      <td>2015-09-28 21:32:19+00:00</td>\n",
       "      <td>2023-02-12</td>\n",
       "      <td>64 total hours</td>\n",
       "      <td>4466306</td>\n",
       "      <td>https://img-c.udemycdn.com/course/750x422/6252...</td>\n",
       "      <td>4.696147</td>\n",
       "      <td>64.0</td>\n",
       "      <td>5</td>\n",
       "    </tr>\n",
       "    <tr>\n",
       "      <th>756150</th>\n",
       "      <td>Angular - The Complete Guide (2023 Edition)</td>\n",
       "      <td>/course/the-complete-guide-to-angular-2/</td>\n",
       "      <td>4.592692</td>\n",
       "      <td>180257</td>\n",
       "      <td>472</td>\n",
       "      <td>2016-02-08 17:02:55+00:00</td>\n",
       "      <td>2023-02-06</td>\n",
       "      <td>34.5 total hours</td>\n",
       "      <td>13952972</td>\n",
       "      <td>https://img-c.udemycdn.com/course/750x422/7561...</td>\n",
       "      <td>4.592692</td>\n",
       "      <td>34.0</td>\n",
       "      <td>5</td>\n",
       "    </tr>\n",
       "  </tbody>\n",
       "</table>\n",
       "</div>"
      ],
      "text/plain": [
       "                                                     title  \\\n",
       "id                                                           \n",
       "567828   The Complete Python Bootcamp From Zero to Hero...   \n",
       "793796   Microsoft Excel - Excel from Beginner to Advanced   \n",
       "1565838         The Complete 2023 Web Development Bootcamp   \n",
       "625204                     The Web Developer Bootcamp 2023   \n",
       "756150         Angular - The Complete Guide (2023 Edition)   \n",
       "\n",
       "                                                       url    rating  \\\n",
       "id                                                                     \n",
       "567828                   /course/complete-python-bootcamp/  4.592782   \n",
       "793796   /course/microsoft-excel-2013-from-beginner-to-...  4.659531   \n",
       "1565838     /course/the-complete-web-development-bootcamp/  4.667258   \n",
       "625204                 /course/the-web-developer-bootcamp/  4.696147   \n",
       "756150            /course/the-complete-guide-to-angular-2/  4.592692   \n",
       "\n",
       "         num_reviews  num_published_lectures                   created  \\\n",
       "id                                                                       \n",
       "567828        452973                     155 2015-07-29 00:12:23+00:00   \n",
       "793796        357442                     254 2016-03-15 16:43:36+00:00   \n",
       "1565838       263152                     490 2018-02-22 12:02:33+00:00   \n",
       "625204        254711                     616 2015-09-28 21:32:19+00:00   \n",
       "756150        180257                     472 2016-02-08 17:02:55+00:00   \n",
       "\n",
       "        last_update_date          duration  instructors_id  \\\n",
       "id                                                           \n",
       "567828        2021-03-14    22 total hours         9685726   \n",
       "793796        2023-01-17    21 total hours        16649710   \n",
       "1565838       2023-01-20  65.5 total hours        31334738   \n",
       "625204        2023-02-12    64 total hours         4466306   \n",
       "756150        2023-02-06  34.5 total hours        13952972   \n",
       "\n",
       "                                                     image  rating_copy  \\\n",
       "id                                                                        \n",
       "567828   https://img-c.udemycdn.com/course/750x422/5678...     4.592782   \n",
       "793796   https://img-c.udemycdn.com/course/750x422/7937...     4.659531   \n",
       "1565838  https://img-c.udemycdn.com/course/750x422/1565...     4.667258   \n",
       "625204   https://img-c.udemycdn.com/course/750x422/6252...     4.696147   \n",
       "756150   https://img-c.udemycdn.com/course/750x422/7561...     4.592692   \n",
       "\n",
       "         duration_cleaned rating_group  \n",
       "id                                      \n",
       "567828               22.0            5  \n",
       "793796               21.0            5  \n",
       "1565838              65.0            5  \n",
       "625204               64.0            5  \n",
       "756150               34.0            5  "
      ]
     },
     "execution_count": 23,
     "metadata": {},
     "output_type": "execute_result"
    }
   ],
   "source": [
    "sorted = df_cleaned.sort_values(by='num_reviews', ascending=False)\n",
    "sorted.head()"
   ]
  },
  {
   "cell_type": "markdown",
   "id": "605d4881-2a45-4852-83d0-20bd3579baaf",
   "metadata": {},
   "source": [
    "## look for duplicated❗"
   ]
  },
  {
   "cell_type": "code",
   "execution_count": 25,
   "id": "026112ca-7adf-4ffb-ab51-9020fc63b6b0",
   "metadata": {},
   "outputs": [
    {
     "data": {
      "text/plain": [
       "id\n",
       "567828     False\n",
       "1565838    False\n",
       "625204     False\n",
       "756150     False\n",
       "2776760    False\n",
       "           ...  \n",
       "5029000    False\n",
       "4694354    False\n",
       "4668986    False\n",
       "4954150    False\n",
       "4545520    False\n",
       "Length: 83026, dtype: bool"
      ]
     },
     "execution_count": 25,
     "metadata": {},
     "output_type": "execute_result"
    }
   ],
   "source": [
    "duplicates = df_cleaned.duplicated()\n",
    "duplicates"
   ]
  },
  {
   "cell_type": "code",
   "execution_count": 26,
   "id": "ac4acac4-1a4e-4313-a2de-a31fc4d0ff11",
   "metadata": {},
   "outputs": [
    {
     "data": {
      "text/plain": [
       "0"
      ]
     },
     "execution_count": 26,
     "metadata": {},
     "output_type": "execute_result"
    }
   ],
   "source": [
    "duplicates.sum()"
   ]
  },
  {
   "cell_type": "code",
   "execution_count": 30,
   "id": "51a4da67-b8c7-4a0e-afa0-b2bfe7e8a5a0",
   "metadata": {},
   "outputs": [
    {
     "name": "stdout",
     "output_type": "stream",
     "text": [
      "   A  B\n",
      "0  1  x\n",
      "2  2  y\n",
      "4  3  z\n"
     ]
    }
   ],
   "source": [
    "# Sample DataFrame with duplicates\n",
    "data = {'A': [1, 1, 2, 2, 3],\n",
    "        'B': ['x', 'x', 'y', 'y', 'z']}\n",
    "df = pd.DataFrame(data)\n",
    "\n",
    "# Dropping duplicates\n",
    "clean_df = df.drop_duplicates()\n",
    "\n",
    "# contains only the first occurrence of each unique row.\n",
    "print(clean_df)"
   ]
  },
  {
   "cell_type": "markdown",
   "id": "0001c316-ddf1-4f72-8d04-b05834a264fb",
   "metadata": {},
   "source": [
    "## filter by column❗"
   ]
  },
  {
   "cell_type": "code",
   "execution_count": 95,
   "id": "c02d56b5-0cd0-481f-979b-0e613fcd0e8a",
   "metadata": {},
   "outputs": [
    {
     "name": "stdout",
     "output_type": "stream",
     "text": [
      "                                                     title  \\\n",
      "id                                                           \n",
      "2322586   AWS Certified Developer Associate Practice Exams   \n",
      "1550970  Java Certification : OCP (1Z0-809) Exam Simula...   \n",
      "4455426  Web 3.0, Blockchain, Smart Contracts & Crypto ...   \n",
      "1579652  Java Certification - I (OCA): Practice for 1Z0...   \n",
      "3507110  Oracle OCP Java 11 Developer Practice Tests fo...   \n",
      "\n",
      "                                                       url    rating  \\\n",
      "id                                                                     \n",
      "2322586  /course/aws-certified-developer-associate-prac...  4.713131   \n",
      "1550970                                  /course/java-ocp/  4.914651   \n",
      "4455426  /course/web3-blockchain-smartcontracts-crypto-...  4.051289   \n",
      "1579652  /course/java-certification-i-oca-practice-for-...  3.396133   \n",
      "3507110  /course/java-se-11-certification-exam-1z0-819-...  3.108269   \n",
      "\n",
      "         num_reviews  num_published_lectures                   created  \\\n",
      "id                                                                       \n",
      "2322586         3276                       0 2019-04-14 22:50:29+00:00   \n",
      "1550970          358                       0 2018-02-12 08:11:27+00:00   \n",
      "4455426           83                       0 2021-12-21 20:23:13+00:00   \n",
      "1579652           74                       0 2018-03-04 04:53:11+00:00   \n",
      "3507110           70                       0 2020-09-17 12:41:33+00:00   \n",
      "\n",
      "        last_update_date       duration  instructors_id  \\\n",
      "id                                                        \n",
      "2322586       2023-02-14  335 questions          116422   \n",
      "1550970       2023-02-02  539 questions        15168548   \n",
      "4455426       2022-01-18  310 questions        28616898   \n",
      "1579652       2020-09-16  350 questions        31512658   \n",
      "3507110       2022-12-11  319 questions         3114402   \n",
      "\n",
      "                                                     image  rating_copy  \\\n",
      "id                                                                        \n",
      "2322586  https://img-b.udemycdn.com/course/750x422/2322...     4.713131   \n",
      "1550970  https://img-c.udemycdn.com/course/750x422/1550...     4.914651   \n",
      "4455426  https://img-c.udemycdn.com/course/750x422/4455...     4.051289   \n",
      "1579652  https://img-b.udemycdn.com/course/750x422/1579...     3.396133   \n",
      "3507110  https://img-b.udemycdn.com/course/750x422/3507...     3.108269   \n",
      "\n",
      "         duration_cleaned rating_group         created_converted  created_year  \n",
      "id                                                                              \n",
      "2322586             335.0            5 2019-04-14 22:50:29+00:00          2019  \n",
      "1550970             539.0            5 2018-02-12 08:11:27+00:00          2018  \n",
      "4455426             310.0            5 2021-12-21 20:23:13+00:00          2021  \n",
      "1579652             350.0            4 2018-03-04 04:53:11+00:00          2018  \n",
      "3507110             319.0            4 2020-09-17 12:41:33+00:00          2020  \n"
     ]
    }
   ],
   "source": [
    "long = df_cleaned[df_cleaned['duration_cleaned'] > 300]\n",
    "print(long.head())"
   ]
  },
  {
   "cell_type": "code",
   "execution_count": 94,
   "id": "a25424b0-3ad4-45bd-a764-5622fcecd066",
   "metadata": {},
   "outputs": [
    {
     "name": "stdout",
     "output_type": "stream",
     "text": [
      "                                                     title  \\\n",
      "id                                                           \n",
      "567828   The Complete Python Bootcamp From Zero to Hero...   \n",
      "1565838         The Complete 2023 Web Development Bootcamp   \n",
      "625204                     The Web Developer Bootcamp 2023   \n",
      "756150         Angular - The Complete Guide (2023 Edition)   \n",
      "2776760  100 Days of Code: The Complete Python Pro Boot...   \n",
      "\n",
      "                                                    url    rating  \\\n",
      "id                                                                  \n",
      "567828                /course/complete-python-bootcamp/  4.592782   \n",
      "1565838  /course/the-complete-web-development-bootcamp/  4.667258   \n",
      "625204              /course/the-web-developer-bootcamp/  4.696147   \n",
      "756150         /course/the-complete-guide-to-angular-2/  4.592692   \n",
      "2776760                       /course/100-days-of-code/  4.695252   \n",
      "\n",
      "         num_reviews  num_published_lectures                   created  \\\n",
      "id                                                                       \n",
      "567828        452973                     155 2015-07-29 00:12:23+00:00   \n",
      "1565838       263152                     490 2018-02-22 12:02:33+00:00   \n",
      "625204        254711                     616 2015-09-28 21:32:19+00:00   \n",
      "756150        180257                     472 2016-02-08 17:02:55+00:00   \n",
      "2776760       177568                     676 2020-01-24 10:47:21+00:00   \n",
      "\n",
      "        last_update_date          duration  instructors_id  \\\n",
      "id                                                           \n",
      "567828        2021-03-14    22 total hours         9685726   \n",
      "1565838       2023-01-20  65.5 total hours        31334738   \n",
      "625204        2023-02-12    64 total hours         4466306   \n",
      "756150        2023-02-06  34.5 total hours        13952972   \n",
      "2776760       2022-11-30    64 total hours        31334738   \n",
      "\n",
      "                                                     image  rating_copy  \\\n",
      "id                                                                        \n",
      "567828   https://img-c.udemycdn.com/course/750x422/5678...     4.592782   \n",
      "1565838  https://img-c.udemycdn.com/course/750x422/1565...     4.667258   \n",
      "625204   https://img-c.udemycdn.com/course/750x422/6252...     4.696147   \n",
      "756150   https://img-c.udemycdn.com/course/750x422/7561...     4.592692   \n",
      "2776760  https://img-c.udemycdn.com/course/750x422/2776...     4.695252   \n",
      "\n",
      "         duration_cleaned rating_group         created_converted  created_year  \n",
      "id                                                                              \n",
      "567828               22.0            5 2015-07-29 00:12:23+00:00          2015  \n",
      "1565838              65.0            5 2018-02-22 12:02:33+00:00          2018  \n",
      "625204               64.0            5 2015-09-28 21:32:19+00:00          2015  \n",
      "756150               34.0            5 2016-02-08 17:02:55+00:00          2016  \n",
      "2776760              64.0            5 2020-01-24 10:47:21+00:00          2020  \n"
     ]
    }
   ],
   "source": [
    "reviews = df_cleaned[df_cleaned['num_reviews'] > 100000]\n",
    "print(reviews.head())\n",
    "# reviews"
   ]
  },
  {
   "cell_type": "code",
   "execution_count": 92,
   "id": "40016682-2d86-4c31-b6b3-e20b692caff1",
   "metadata": {},
   "outputs": [
    {
     "name": "stdout",
     "output_type": "stream",
     "text": [
      "                                                     title  \\\n",
      "id                                                           \n",
      "4580634  TOTAL Python: 16 days to Become an Advanced Py...   \n",
      "4574326  Playwright JS Automation Testing from Scratch ...   \n",
      "4649166      JavaScript Unit Testing - The Practical Guide   \n",
      "4724938                Mastering TypeScript - 2023 Edition   \n",
      "4603936            Unreal Engine 5 C++ Multiplayer Shooter   \n",
      "\n",
      "                                                       url    rating  \\\n",
      "id                                                                     \n",
      "4580634                              /course/total-python/  4.597317   \n",
      "4574326   /course/playwright-tutorials-automation-testing/  4.592546   \n",
      "4649166  /course/javascript-unit-testing-the-practical-...  4.695919   \n",
      "4724938                          /course/learn-typescript/  4.749772   \n",
      "4603936   /course/unreal-engine-5-cpp-multiplayer-shooter/  4.741808   \n",
      "\n",
      "         num_reviews  num_published_lectures                   created  \\\n",
      "id                                                                       \n",
      "4580634         2085                     225 2022-03-04 16:56:13+00:00   \n",
      "4574326         1834                      69 2022-02-28 20:09:58+00:00   \n",
      "4649166         1743                      92 2022-04-19 05:46:40+00:00   \n",
      "4724938         1685                     142 2022-06-08 17:32:20+00:00   \n",
      "4603936         1462                     246 2022-03-19 17:10:51+00:00   \n",
      "\n",
      "        last_update_date          duration  instructors_id  \\\n",
      "id                                                           \n",
      "4580634       2022-09-20  26.5 total hours        11005030   \n",
      "4574326       2023-01-01    14 total hours         5997742   \n",
      "4649166       2022-11-18   5.5 total hours        31926668   \n",
      "4724938       2022-12-22  10.5 total hours         4466306   \n",
      "4603936       2023-01-31    65 total hours        49728164   \n",
      "\n",
      "                                                     image  rating_copy  \\\n",
      "id                                                                        \n",
      "4580634  https://img-c.udemycdn.com/course/750x422/4580...     4.597317   \n",
      "4574326  https://img-c.udemycdn.com/course/750x422/4574...     4.592546   \n",
      "4649166  https://img-c.udemycdn.com/course/750x422/4649...     4.695919   \n",
      "4724938  https://img-c.udemycdn.com/course/750x422/4724...     4.749772   \n",
      "4603936  https://img-b.udemycdn.com/course/750x422/4603...     4.741808   \n",
      "\n",
      "         duration_cleaned rating_group         created_converted  created_year  \n",
      "id                                                                              \n",
      "4580634              26.0            5 2022-03-04 16:56:13+00:00          2022  \n",
      "4574326              14.0            5 2022-02-28 20:09:58+00:00          2022  \n",
      "4649166               5.0            5 2022-04-19 05:46:40+00:00          2022  \n",
      "4724938              10.0            5 2022-06-08 17:32:20+00:00          2022  \n",
      "4603936              65.0            5 2022-03-19 17:10:51+00:00          2022  \n"
     ]
    }
   ],
   "source": [
    "# Convert the 'created' column to a datetime object\n",
    "df_cleaned['created_converted'] = pd.to_datetime(df_cleaned['created'])\n",
    "\n",
    "# Extract the year from the 'created' column\n",
    "df_cleaned['created_year'] = df_cleaned['created_converted'].dt.year\n",
    "\n",
    "# Filter the rows for courses created in 2022\n",
    "in_2022 = df_cleaned[df_cleaned['created_year'] == 2022]\n",
    "print(in_2022.head())"
   ]
  },
  {
   "cell_type": "code",
   "execution_count": 93,
   "id": "5b44fe79-9601-4a54-bb91-8eadecff1205",
   "metadata": {},
   "outputs": [
    {
     "name": "stdout",
     "output_type": "stream",
     "text": [
      "                                                     title  \\\n",
      "id                                                           \n",
      "5073162  React Testing Library and Jest: The Complete G...   \n",
      "5075216  The Complete ChatGPT Web Development Code Alon...   \n",
      "5082418  ChatGPT For Beginners: Smart Tips For ChatGPT ...   \n",
      "5057468  Full Stack React Bootcamp with .NET API [2023]...   \n",
      "5053594  ChatGPT: Absolute guide to AI Assistants ANY I...   \n",
      "\n",
      "                                                       url    rating  \\\n",
      "id                                                                     \n",
      "5073162            /course/react-testing-library-and-jest/  4.758995   \n",
      "5075216  /course/the-complete-chatgpt-web-development-f...  4.528523   \n",
      "5082418                        /course/chatgpt-smart-tips/  4.348467   \n",
      "5057468    /course/full-stack-react-bootcamp-with-net-api/  4.700319   \n",
      "5053594  /course/chatgpt-how-to-maximize-ai-assistants-...  4.526276   \n",
      "\n",
      "         num_reviews  num_published_lectures                   created  \\\n",
      "id                                                                       \n",
      "5073162          232                      92 2023-01-09 17:00:07+00:00   \n",
      "5075216          141                      42 2023-01-10 12:44:41+00:00   \n",
      "5082418          115                      76 2023-01-13 07:10:19+00:00   \n",
      "5057468          109                     343 2023-01-03 16:30:01+00:00   \n",
      "5053594           84                      29 2023-01-02 03:07:11+00:00   \n",
      "\n",
      "        last_update_date          duration  instructors_id  \\\n",
      "id                                                           \n",
      "5073162       2023-02-01   7.5 total hours         5487312   \n",
      "5075216       2023-01-30   3.5 total hours        60884630   \n",
      "5082418       2023-02-08   2.5 total hours       123122712   \n",
      "5057468       2023-01-19  21.5 total hours         8843166   \n",
      "5053594       2023-01-04   1.5 total hours        85648024   \n",
      "\n",
      "                                                     image  rating_copy  \\\n",
      "id                                                                        \n",
      "5073162  https://img-c.udemycdn.com/course/750x422/5073...     4.758995   \n",
      "5075216  https://img-c.udemycdn.com/course/750x422/5075...     4.528523   \n",
      "5082418  https://img-c.udemycdn.com/course/750x422/5082...     4.348467   \n",
      "5057468  https://img-c.udemycdn.com/course/750x422/5057...     4.700319   \n",
      "5053594  https://img-c.udemycdn.com/course/750x422/5053...     4.526276   \n",
      "\n",
      "         duration_cleaned rating_group         created_converted  created_year  \n",
      "id                                                                              \n",
      "5073162               7.0            5 2023-01-09 17:00:07+00:00          2023  \n",
      "5075216               3.0            5 2023-01-10 12:44:41+00:00          2023  \n",
      "5082418               2.0            5 2023-01-13 07:10:19+00:00          2023  \n",
      "5057468              21.0            5 2023-01-03 16:30:01+00:00          2023  \n",
      "5053594               1.0            5 2023-01-02 03:07:11+00:00          2023  \n"
     ]
    }
   ],
   "source": [
    "filtered = df_cleaned[(df_cleaned['created_year'] > 2022)  & (df_cleaned['rating'] > 4.0)]\n",
    "print(filtered.head())\n"
   ]
  },
  {
   "cell_type": "markdown",
   "id": "633c18db-ffd9-4d3d-a60a-0dfb03b4857e",
   "metadata": {},
   "source": [
    "## filter by string❗"
   ]
  },
  {
   "cell_type": "code",
   "execution_count": 62,
   "id": "f2332e4a-d3ef-4e6c-9c73-cafd5f6db566",
   "metadata": {},
   "outputs": [
    {
     "data": {
      "text/plain": [
       "id\n",
       "567828     False\n",
       "1565838    False\n",
       "625204     False\n",
       "756150     False\n",
       "2776760    False\n",
       "           ...  \n",
       "5029000    False\n",
       "4694354    False\n",
       "4668986    False\n",
       "4954150    False\n",
       "4545520    False\n",
       "Name: title, Length: 83026, dtype: bool"
      ]
     },
     "execution_count": 62,
     "metadata": {},
     "output_type": "execute_result"
    }
   ],
   "source": [
    "df_cleaned['title'].str.contains('java', case=False)"
   ]
  },
  {
   "cell_type": "code",
   "execution_count": 69,
   "id": "1943bc87-69b9-42db-8db1-2e913716b5d9",
   "metadata": {},
   "outputs": [],
   "source": [
    "courses = df_cleaned[df_cleaned['title'].str.contains('chatgpt', case=False) & (df_cleaned['rating'] > 4.5)].head()"
   ]
  },
  {
   "cell_type": "code",
   "execution_count": 96,
   "id": "d5d0f73c-51f1-4cc2-8b51-7304145cf779",
   "metadata": {},
   "outputs": [
    {
     "data": {
      "text/html": [
       "<div>\n",
       "<style scoped>\n",
       "    .dataframe tbody tr th:only-of-type {\n",
       "        vertical-align: middle;\n",
       "    }\n",
       "\n",
       "    .dataframe tbody tr th {\n",
       "        vertical-align: top;\n",
       "    }\n",
       "\n",
       "    .dataframe thead th {\n",
       "        text-align: right;\n",
       "    }\n",
       "</style>\n",
       "<table border=\"1\" class=\"dataframe\">\n",
       "  <thead>\n",
       "    <tr style=\"text-align: right;\">\n",
       "      <th></th>\n",
       "      <th>title</th>\n",
       "      <th>url</th>\n",
       "      <th>rating</th>\n",
       "      <th>num_reviews</th>\n",
       "      <th>num_published_lectures</th>\n",
       "      <th>created</th>\n",
       "      <th>last_update_date</th>\n",
       "      <th>duration</th>\n",
       "      <th>instructors_id</th>\n",
       "      <th>image</th>\n",
       "      <th>rating_copy</th>\n",
       "      <th>duration_cleaned</th>\n",
       "      <th>rating_group</th>\n",
       "      <th>created_converted</th>\n",
       "      <th>created_year</th>\n",
       "    </tr>\n",
       "    <tr>\n",
       "      <th>id</th>\n",
       "      <th></th>\n",
       "      <th></th>\n",
       "      <th></th>\n",
       "      <th></th>\n",
       "      <th></th>\n",
       "      <th></th>\n",
       "      <th></th>\n",
       "      <th></th>\n",
       "      <th></th>\n",
       "      <th></th>\n",
       "      <th></th>\n",
       "      <th></th>\n",
       "      <th></th>\n",
       "      <th></th>\n",
       "      <th></th>\n",
       "    </tr>\n",
       "  </thead>\n",
       "  <tbody>\n",
       "    <tr>\n",
       "      <th>1800596</th>\n",
       "      <td>Microsoft Office Word 2010 Intermediate</td>\n",
       "      <td>/course/microsoft-office-word-2010-intermediate/</td>\n",
       "      <td>5.0</td>\n",
       "      <td>1</td>\n",
       "      <td>147</td>\n",
       "      <td>2018-07-15 22:00:50+00:00</td>\n",
       "      <td>2018-07-21</td>\n",
       "      <td>3.5 total hours</td>\n",
       "      <td>214757</td>\n",
       "      <td>https://img-c.udemycdn.com/course/750x422/1800...</td>\n",
       "      <td>5.0</td>\n",
       "      <td>3.0</td>\n",
       "      <td>5</td>\n",
       "      <td>2018-07-15 22:00:50+00:00</td>\n",
       "      <td>2018</td>\n",
       "    </tr>\n",
       "    <tr>\n",
       "      <th>1434030</th>\n",
       "      <td>How to Interpret Business Success from Financi...</td>\n",
       "      <td>/course/financial-statements-an-overview/</td>\n",
       "      <td>5.0</td>\n",
       "      <td>4</td>\n",
       "      <td>12</td>\n",
       "      <td>2017-11-15 11:30:35+00:00</td>\n",
       "      <td>2020-10-03</td>\n",
       "      <td>1.5 total hours</td>\n",
       "      <td>32504146</td>\n",
       "      <td>https://img-c.udemycdn.com/course/750x422/1434...</td>\n",
       "      <td>5.0</td>\n",
       "      <td>1.0</td>\n",
       "      <td>5</td>\n",
       "      <td>2017-11-15 11:30:35+00:00</td>\n",
       "      <td>2017</td>\n",
       "    </tr>\n",
       "    <tr>\n",
       "      <th>1787630</th>\n",
       "      <td>Microsoft Office Excel 2010: Intermediate</td>\n",
       "      <td>/course/microsoft-office-excel-2010-intermedia...</td>\n",
       "      <td>5.0</td>\n",
       "      <td>3</td>\n",
       "      <td>245</td>\n",
       "      <td>2018-07-08 02:26:08+00:00</td>\n",
       "      <td>2018-11-05</td>\n",
       "      <td>4 total hours</td>\n",
       "      <td>214757</td>\n",
       "      <td>https://img-c.udemycdn.com/course/750x422/1787...</td>\n",
       "      <td>5.0</td>\n",
       "      <td>4.0</td>\n",
       "      <td>5</td>\n",
       "      <td>2018-07-08 02:26:08+00:00</td>\n",
       "      <td>2018</td>\n",
       "    </tr>\n",
       "    <tr>\n",
       "      <th>1632626</th>\n",
       "      <td>Microsoft Office Access 2010 Basic</td>\n",
       "      <td>/course/microsoft-office-access-2010-basic/</td>\n",
       "      <td>5.0</td>\n",
       "      <td>1</td>\n",
       "      <td>210</td>\n",
       "      <td>2018-04-05 16:57:59+00:00</td>\n",
       "      <td>2023-01-16</td>\n",
       "      <td>4 total hours</td>\n",
       "      <td>214757</td>\n",
       "      <td>https://img-c.udemycdn.com/course/750x422/1632...</td>\n",
       "      <td>5.0</td>\n",
       "      <td>4.0</td>\n",
       "      <td>5</td>\n",
       "      <td>2018-04-05 16:57:59+00:00</td>\n",
       "      <td>2018</td>\n",
       "    </tr>\n",
       "    <tr>\n",
       "      <th>1634708</th>\n",
       "      <td>Microsoft Office Outlook 2010: Basic</td>\n",
       "      <td>/course/microsoft-office-outlook-2010-basic-r2/</td>\n",
       "      <td>5.0</td>\n",
       "      <td>1</td>\n",
       "      <td>197</td>\n",
       "      <td>2018-04-07 01:17:29+00:00</td>\n",
       "      <td>2022-08-23</td>\n",
       "      <td>3.5 total hours</td>\n",
       "      <td>214757</td>\n",
       "      <td>https://img-c.udemycdn.com/course/750x422/1634...</td>\n",
       "      <td>5.0</td>\n",
       "      <td>3.0</td>\n",
       "      <td>5</td>\n",
       "      <td>2018-04-07 01:17:29+00:00</td>\n",
       "      <td>2018</td>\n",
       "    </tr>\n",
       "  </tbody>\n",
       "</table>\n",
       "</div>"
      ],
      "text/plain": [
       "                                                     title  \\\n",
       "id                                                           \n",
       "1800596            Microsoft Office Word 2010 Intermediate   \n",
       "1434030  How to Interpret Business Success from Financi...   \n",
       "1787630          Microsoft Office Excel 2010: Intermediate   \n",
       "1632626                 Microsoft Office Access 2010 Basic   \n",
       "1634708               Microsoft Office Outlook 2010: Basic   \n",
       "\n",
       "                                                       url  rating  \\\n",
       "id                                                                   \n",
       "1800596   /course/microsoft-office-word-2010-intermediate/     5.0   \n",
       "1434030          /course/financial-statements-an-overview/     5.0   \n",
       "1787630  /course/microsoft-office-excel-2010-intermedia...     5.0   \n",
       "1632626        /course/microsoft-office-access-2010-basic/     5.0   \n",
       "1634708    /course/microsoft-office-outlook-2010-basic-r2/     5.0   \n",
       "\n",
       "         num_reviews  num_published_lectures                   created  \\\n",
       "id                                                                       \n",
       "1800596            1                     147 2018-07-15 22:00:50+00:00   \n",
       "1434030            4                      12 2017-11-15 11:30:35+00:00   \n",
       "1787630            3                     245 2018-07-08 02:26:08+00:00   \n",
       "1632626            1                     210 2018-04-05 16:57:59+00:00   \n",
       "1634708            1                     197 2018-04-07 01:17:29+00:00   \n",
       "\n",
       "        last_update_date         duration  instructors_id  \\\n",
       "id                                                          \n",
       "1800596       2018-07-21  3.5 total hours          214757   \n",
       "1434030       2020-10-03  1.5 total hours        32504146   \n",
       "1787630       2018-11-05    4 total hours          214757   \n",
       "1632626       2023-01-16    4 total hours          214757   \n",
       "1634708       2022-08-23  3.5 total hours          214757   \n",
       "\n",
       "                                                     image  rating_copy  \\\n",
       "id                                                                        \n",
       "1800596  https://img-c.udemycdn.com/course/750x422/1800...          5.0   \n",
       "1434030  https://img-c.udemycdn.com/course/750x422/1434...          5.0   \n",
       "1787630  https://img-c.udemycdn.com/course/750x422/1787...          5.0   \n",
       "1632626  https://img-c.udemycdn.com/course/750x422/1632...          5.0   \n",
       "1634708  https://img-c.udemycdn.com/course/750x422/1634...          5.0   \n",
       "\n",
       "         duration_cleaned rating_group         created_converted  created_year  \n",
       "id                                                                              \n",
       "1800596               3.0            5 2018-07-15 22:00:50+00:00          2018  \n",
       "1434030               1.0            5 2017-11-15 11:30:35+00:00          2017  \n",
       "1787630               4.0            5 2018-07-08 02:26:08+00:00          2018  \n",
       "1632626               4.0            5 2018-04-05 16:57:59+00:00          2018  \n",
       "1634708               3.0            5 2018-04-07 01:17:29+00:00          2018  "
      ]
     },
     "execution_count": 96,
     "metadata": {},
     "output_type": "execute_result"
    }
   ],
   "source": [
    "courses.sort_values(by='rating', ascending=False).head()"
   ]
  },
  {
   "cell_type": "code",
   "execution_count": 80,
   "id": "42228213-6fa8-4a63-aeeb-2cb0c7cee64b",
   "metadata": {},
   "outputs": [
    {
     "data": {
      "text/plain": [
       "instructors_id\n",
       "5058914     485\n",
       "214757      284\n",
       "39032       276\n",
       "16262298    247\n",
       "32504146    240\n",
       "Name: count, dtype: int64"
      ]
     },
     "execution_count": 80,
     "metadata": {},
     "output_type": "execute_result"
    }
   ],
   "source": [
    "tops = df_cleaned['instructors_id'].value_counts().nlargest(5)\n",
    "tops\n",
    "# tops.sum()"
   ]
  },
  {
   "cell_type": "markdown",
   "id": "6b6d4d2f-ff60-4221-8c2e-54a2ec40e9b3",
   "metadata": {},
   "source": [
    "## create dataframe from ids❗"
   ]
  },
  {
   "cell_type": "code",
   "execution_count": 75,
   "id": "984cd965-77ba-4a69-8ba5-d64447063ed9",
   "metadata": {},
   "outputs": [
    {
     "data": {
      "text/plain": [
       "[5058914, 214757, 39032, 16262298, 32504146]"
      ]
     },
     "execution_count": 75,
     "metadata": {},
     "output_type": "execute_result"
    }
   ],
   "source": [
    "ids = tops.index.tolist()\n",
    "ids"
   ]
  },
  {
   "cell_type": "code",
   "execution_count": 82,
   "id": "2de3108d-6c6e-4f68-82f4-df948d357552",
   "metadata": {},
   "outputs": [
    {
     "name": "stdout",
     "output_type": "stream",
     "text": [
      "<class 'pandas.core.frame.DataFrame'>\n",
      "Index: 1532 entries, 128550 to 222124\n",
      "Data columns (total 15 columns):\n",
      " #   Column                  Non-Null Count  Dtype              \n",
      "---  ------                  --------------  -----              \n",
      " 0   title                   1532 non-null   object             \n",
      " 1   url                     1532 non-null   object             \n",
      " 2   rating                  1532 non-null   float64            \n",
      " 3   num_reviews             1532 non-null   int64              \n",
      " 4   num_published_lectures  1532 non-null   int64              \n",
      " 5   created                 1532 non-null   datetime64[ns, UTC]\n",
      " 6   last_update_date        1532 non-null   object             \n",
      " 7   duration                1532 non-null   object             \n",
      " 8   instructors_id          1532 non-null   int64              \n",
      " 9   image                   1532 non-null   object             \n",
      " 10  rating_copy             1532 non-null   float64            \n",
      " 11  duration_cleaned        1532 non-null   float64            \n",
      " 12  rating_group            1532 non-null   category           \n",
      " 13  created_converted       1532 non-null   datetime64[ns, UTC]\n",
      " 14  created_year            1532 non-null   int32              \n",
      "dtypes: category(1), datetime64[ns, UTC](2), float64(3), int32(1), int64(3), object(5)\n",
      "memory usage: 175.2+ KB\n"
     ]
    }
   ],
   "source": [
    "courses = df_cleaned[df_cleaned['instructors_id'].isin(ids)]\n",
    "courses.info()"
   ]
  },
  {
   "cell_type": "code",
   "execution_count": 86,
   "id": "ffbd2c61-f6a1-427b-9680-7ac959ba8279",
   "metadata": {},
   "outputs": [
    {
     "name": "stdout",
     "output_type": "stream",
     "text": [
      "<class 'pandas.core.frame.DataFrame'>\n",
      "Index: 161 entries, 128550 to 222124\n",
      "Data columns (total 15 columns):\n",
      " #   Column                  Non-Null Count  Dtype              \n",
      "---  ------                  --------------  -----              \n",
      " 0   title                   161 non-null    object             \n",
      " 1   url                     161 non-null    object             \n",
      " 2   rating                  161 non-null    float64            \n",
      " 3   num_reviews             161 non-null    int64              \n",
      " 4   num_published_lectures  161 non-null    int64              \n",
      " 5   created                 161 non-null    datetime64[ns, UTC]\n",
      " 6   last_update_date        161 non-null    object             \n",
      " 7   duration                161 non-null    object             \n",
      " 8   instructors_id          161 non-null    int64              \n",
      " 9   image                   161 non-null    object             \n",
      " 10  rating_copy             161 non-null    float64            \n",
      " 11  duration_cleaned        161 non-null    float64            \n",
      " 12  rating_group            161 non-null    category           \n",
      " 13  created_converted       161 non-null    datetime64[ns, UTC]\n",
      " 14  created_year            161 non-null    int32              \n",
      "dtypes: category(1), datetime64[ns, UTC](2), float64(3), int32(1), int64(3), object(5)\n",
      "memory usage: 18.6+ KB\n"
     ]
    }
   ],
   "source": [
    "high = courses[courses['rating'] > 4.6]\n",
    "high.info()"
   ]
  },
  {
   "cell_type": "code",
   "execution_count": 88,
   "id": "40033182-fa38-43ba-ae49-26cdeaff2474",
   "metadata": {},
   "outputs": [
    {
     "data": {
      "text/plain": [
       "instructors_id\n",
       "39032       56\n",
       "214757      36\n",
       "5058914     27\n",
       "16262298    17\n",
       "32504146    25\n",
       "Name: rating, dtype: int64"
      ]
     },
     "execution_count": 88,
     "metadata": {},
     "output_type": "execute_result"
    }
   ],
   "source": [
    "high.groupby('instructors_id')['rating'].count()"
   ]
  },
  {
   "cell_type": "code",
   "execution_count": 89,
   "id": "63632836-603b-4c3c-85ba-bb8e286982af",
   "metadata": {},
   "outputs": [
    {
     "data": {
      "text/plain": [
       "161"
      ]
     },
     "execution_count": 89,
     "metadata": {},
     "output_type": "execute_result"
    }
   ],
   "source": [
    "high.groupby('instructors_id')['rating'].count().sum()"
   ]
  },
  {
   "cell_type": "code",
   "execution_count": null,
   "id": "fc4489ca-bfba-41a8-b974-e15fe683e0e9",
   "metadata": {},
   "outputs": [],
   "source": []
  }
 ],
 "metadata": {
  "kernelspec": {
   "display_name": "Python 3 (ipykernel)",
   "language": "python",
   "name": "python3"
  },
  "language_info": {
   "codemirror_mode": {
    "name": "ipython",
    "version": 3
   },
   "file_extension": ".py",
   "mimetype": "text/x-python",
   "name": "python",
   "nbconvert_exporter": "python",
   "pygments_lexer": "ipython3",
   "version": "3.11.8"
  }
 },
 "nbformat": 4,
 "nbformat_minor": 5
}
