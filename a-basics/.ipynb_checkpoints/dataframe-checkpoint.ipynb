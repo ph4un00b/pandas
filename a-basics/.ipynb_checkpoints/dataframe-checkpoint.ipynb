{
 "cells": [
  {
   "cell_type": "code",
   "execution_count": 2,
   "id": "93c8616d-7255-405c-895f-9493a4c42af9",
   "metadata": {},
   "outputs": [],
   "source": [
    "import pandas as pd"
   ]
  },
  {
   "cell_type": "code",
   "execution_count": 4,
   "id": "f3fe04d8-078e-4859-a76d-e7a188dadec7",
   "metadata": {},
   "outputs": [
    {
     "data": {
      "text/plain": [
       "'2.2.1'"
      ]
     },
     "execution_count": 4,
     "metadata": {},
     "output_type": "execute_result"
    }
   ],
   "source": [
    "pd.__version__"
   ]
  },
  {
   "cell_type": "code",
   "execution_count": 6,
   "id": "7fe974dd-3d73-44d9-bae3-095c165578eb",
   "metadata": {},
   "outputs": [
    {
     "data": {
      "text/html": [
       "<div>\n",
       "<style scoped>\n",
       "    .dataframe tbody tr th:only-of-type {\n",
       "        vertical-align: middle;\n",
       "    }\n",
       "\n",
       "    .dataframe tbody tr th {\n",
       "        vertical-align: top;\n",
       "    }\n",
       "\n",
       "    .dataframe thead th {\n",
       "        text-align: right;\n",
       "    }\n",
       "</style>\n",
       "<table border=\"1\" class=\"dataframe\">\n",
       "  <thead>\n",
       "    <tr style=\"text-align: right;\">\n",
       "      <th></th>\n",
       "      <th>title</th>\n",
       "      <th>url</th>\n",
       "      <th>rating</th>\n",
       "      <th>num_reviews</th>\n",
       "      <th>num_published_lectures</th>\n",
       "      <th>created</th>\n",
       "      <th>last_update_date</th>\n",
       "      <th>duration</th>\n",
       "      <th>instructors_id</th>\n",
       "      <th>image</th>\n",
       "    </tr>\n",
       "    <tr>\n",
       "      <th>id</th>\n",
       "      <th></th>\n",
       "      <th></th>\n",
       "      <th></th>\n",
       "      <th></th>\n",
       "      <th></th>\n",
       "      <th></th>\n",
       "      <th></th>\n",
       "      <th></th>\n",
       "      <th></th>\n",
       "      <th></th>\n",
       "    </tr>\n",
       "  </thead>\n",
       "  <tbody>\n",
       "    <tr>\n",
       "      <th>567828</th>\n",
       "      <td>The Complete Python Bootcamp From Zero to Hero...</td>\n",
       "      <td>/course/complete-python-bootcamp/</td>\n",
       "      <td>4.592782</td>\n",
       "      <td>452973</td>\n",
       "      <td>155</td>\n",
       "      <td>2015-07-29 00:12:23+00:00</td>\n",
       "      <td>2021-03-14</td>\n",
       "      <td>22 total hours</td>\n",
       "      <td>9685726</td>\n",
       "      <td>https://img-c.udemycdn.com/course/750x422/5678...</td>\n",
       "    </tr>\n",
       "    <tr>\n",
       "      <th>1565838</th>\n",
       "      <td>The Complete 2023 Web Development Bootcamp</td>\n",
       "      <td>/course/the-complete-web-development-bootcamp/</td>\n",
       "      <td>4.667258</td>\n",
       "      <td>263152</td>\n",
       "      <td>490</td>\n",
       "      <td>2018-02-22 12:02:33+00:00</td>\n",
       "      <td>2023-01-20</td>\n",
       "      <td>65.5 total hours</td>\n",
       "      <td>31334738</td>\n",
       "      <td>https://img-c.udemycdn.com/course/750x422/1565...</td>\n",
       "    </tr>\n",
       "    <tr>\n",
       "      <th>625204</th>\n",
       "      <td>The Web Developer Bootcamp 2023</td>\n",
       "      <td>/course/the-web-developer-bootcamp/</td>\n",
       "      <td>4.696147</td>\n",
       "      <td>254711</td>\n",
       "      <td>616</td>\n",
       "      <td>2015-09-28 21:32:19+00:00</td>\n",
       "      <td>2023-02-12</td>\n",
       "      <td>64 total hours</td>\n",
       "      <td>4466306</td>\n",
       "      <td>https://img-c.udemycdn.com/course/750x422/6252...</td>\n",
       "    </tr>\n",
       "    <tr>\n",
       "      <th>756150</th>\n",
       "      <td>Angular - The Complete Guide (2023 Edition)</td>\n",
       "      <td>/course/the-complete-guide-to-angular-2/</td>\n",
       "      <td>4.592692</td>\n",
       "      <td>180257</td>\n",
       "      <td>472</td>\n",
       "      <td>2016-02-08 17:02:55+00:00</td>\n",
       "      <td>2023-02-06</td>\n",
       "      <td>34.5 total hours</td>\n",
       "      <td>13952972</td>\n",
       "      <td>https://img-c.udemycdn.com/course/750x422/7561...</td>\n",
       "    </tr>\n",
       "    <tr>\n",
       "      <th>2776760</th>\n",
       "      <td>100 Days of Code: The Complete Python Pro Boot...</td>\n",
       "      <td>/course/100-days-of-code/</td>\n",
       "      <td>4.695252</td>\n",
       "      <td>177568</td>\n",
       "      <td>676</td>\n",
       "      <td>2020-01-24 10:47:21+00:00</td>\n",
       "      <td>2022-11-30</td>\n",
       "      <td>64 total hours</td>\n",
       "      <td>31334738</td>\n",
       "      <td>https://img-c.udemycdn.com/course/750x422/2776...</td>\n",
       "    </tr>\n",
       "  </tbody>\n",
       "</table>\n",
       "</div>"
      ],
      "text/plain": [
       "                                                     title  \\\n",
       "id                                                           \n",
       "567828   The Complete Python Bootcamp From Zero to Hero...   \n",
       "1565838         The Complete 2023 Web Development Bootcamp   \n",
       "625204                     The Web Developer Bootcamp 2023   \n",
       "756150         Angular - The Complete Guide (2023 Edition)   \n",
       "2776760  100 Days of Code: The Complete Python Pro Boot...   \n",
       "\n",
       "                                                    url    rating  \\\n",
       "id                                                                  \n",
       "567828                /course/complete-python-bootcamp/  4.592782   \n",
       "1565838  /course/the-complete-web-development-bootcamp/  4.667258   \n",
       "625204              /course/the-web-developer-bootcamp/  4.696147   \n",
       "756150         /course/the-complete-guide-to-angular-2/  4.592692   \n",
       "2776760                       /course/100-days-of-code/  4.695252   \n",
       "\n",
       "         num_reviews  num_published_lectures                   created  \\\n",
       "id                                                                       \n",
       "567828        452973                     155 2015-07-29 00:12:23+00:00   \n",
       "1565838       263152                     490 2018-02-22 12:02:33+00:00   \n",
       "625204        254711                     616 2015-09-28 21:32:19+00:00   \n",
       "756150        180257                     472 2016-02-08 17:02:55+00:00   \n",
       "2776760       177568                     676 2020-01-24 10:47:21+00:00   \n",
       "\n",
       "        last_update_date          duration  instructors_id  \\\n",
       "id                                                           \n",
       "567828        2021-03-14    22 total hours         9685726   \n",
       "1565838       2023-01-20  65.5 total hours        31334738   \n",
       "625204        2023-02-12    64 total hours         4466306   \n",
       "756150        2023-02-06  34.5 total hours        13952972   \n",
       "2776760       2022-11-30    64 total hours        31334738   \n",
       "\n",
       "                                                     image  \n",
       "id                                                          \n",
       "567828   https://img-c.udemycdn.com/course/750x422/5678...  \n",
       "1565838  https://img-c.udemycdn.com/course/750x422/1565...  \n",
       "625204   https://img-c.udemycdn.com/course/750x422/6252...  \n",
       "756150   https://img-c.udemycdn.com/course/750x422/7561...  \n",
       "2776760  https://img-c.udemycdn.com/course/750x422/2776...  "
      ]
     },
     "execution_count": 6,
     "metadata": {},
     "output_type": "execute_result"
    }
   ],
   "source": [
    "df_1 = pd.read_csv('courses.csv', index_col='id', parse_dates=['created'])\n",
    "df = df_1.copy()\n",
    "df.head()"
   ]
  },
  {
   "cell_type": "markdown",
   "id": "71c44c33-1d30-4eb8-84a8-ea064e02b1c3",
   "metadata": {},
   "source": [
    "## check for nans❗"
   ]
  },
  {
   "cell_type": "code",
   "execution_count": 10,
   "id": "749e9639-1ec5-423e-95e2-9715c42d74d8",
   "metadata": {},
   "outputs": [
    {
     "data": {
      "text/plain": [
       "False"
      ]
     },
     "execution_count": 10,
     "metadata": {},
     "output_type": "execute_result"
    }
   ],
   "source": [
    "df['rating'].hasnans"
   ]
  },
  {
   "cell_type": "markdown",
   "id": "6f96916e-7bbf-4a89-8be5-1bfbd06a97ed",
   "metadata": {},
   "source": [
    "## count all Nans in each column❗❗"
   ]
  },
  {
   "cell_type": "code",
   "execution_count": 11,
   "id": "064935a3-8d24-4522-a44e-009e05bbfc95",
   "metadata": {},
   "outputs": [
    {
     "data": {
      "text/plain": [
       "title                      0\n",
       "url                        0\n",
       "rating                     0\n",
       "num_reviews                0\n",
       "num_published_lectures     0\n",
       "created                    0\n",
       "last_update_date          78\n",
       "duration                   0\n",
       "instructors_id             0\n",
       "image                      0\n",
       "dtype: int64"
      ]
     },
     "execution_count": 11,
     "metadata": {},
     "output_type": "execute_result"
    }
   ],
   "source": [
    "missing_vals = df.isnull().sum()\n",
    "missing_vals"
   ]
  },
  {
   "cell_type": "markdown",
   "id": "c1b7c965-c51e-4f2e-8ee7-7789c2b394de",
   "metadata": {},
   "source": [
    "## replace in-place❗"
   ]
  },
  {
   "cell_type": "code",
   "execution_count": 16,
   "id": "fcc2c0fe-532c-4368-b2ff-314ee1722b07",
   "metadata": {},
   "outputs": [
    {
     "name": "stderr",
     "output_type": "stream",
     "text": [
      "/tmp/ipykernel_67618/253318814.py:1: FutureWarning: A value is trying to be set on a copy of a DataFrame or Series through chained assignment using an inplace method.\n",
      "The behavior will change in pandas 3.0. This inplace method will never work because the intermediate object on which we are setting values always behaves as a copy.\n",
      "\n",
      "For example, when doing 'df[col].method(value, inplace=True)', try using 'df.method({col: value}, inplace=True)' or df[col] = df[col].method(value) instead, to perform the operation inplace on the original object.\n",
      "\n",
      "\n",
      "  df['rating_filled'] = df['rating'].fillna(df['rating'].mean(), inplace=True)\n"
     ]
    }
   ],
   "source": [
    "# df['rating_filled'] = df['rating'].fillna(df['rating'].mean(), inplace=True)\n",
    "# missing_vals = df.isnull().sum()\n",
    "# missing_vals"
   ]
  },
  {
   "cell_type": "code",
   "execution_count": null,
   "id": "1d7ca4db-1cea-43c1-b6ff-f1342f00fef2",
   "metadata": {},
   "outputs": [],
   "source": []
  }
 ],
 "metadata": {
  "kernelspec": {
   "display_name": "Python 3 (ipykernel)",
   "language": "python",
   "name": "python3"
  },
  "language_info": {
   "codemirror_mode": {
    "name": "ipython",
    "version": 3
   },
   "file_extension": ".py",
   "mimetype": "text/x-python",
   "name": "python",
   "nbconvert_exporter": "python",
   "pygments_lexer": "ipython3",
   "version": "3.11.8"
  }
 },
 "nbformat": 4,
 "nbformat_minor": 5
}
