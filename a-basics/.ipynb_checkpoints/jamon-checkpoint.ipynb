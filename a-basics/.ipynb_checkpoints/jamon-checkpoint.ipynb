{
 "cells": [
  {
   "cell_type": "markdown",
   "id": "eb9f7a00-3c4e-4413-81cd-563c643ac4f4",
   "metadata": {},
   "source": [
    "# Intro to jamon 🍕"
   ]
  },
  {
   "cell_type": "code",
   "execution_count": 4,
   "id": "a8f4d8bb-8f8e-4c9f-b021-957160a53c94",
   "metadata": {},
   "outputs": [
    {
     "data": {
      "text/plain": [
       "10"
      ]
     },
     "execution_count": 4,
     "metadata": {},
     "output_type": "execute_result"
    }
   ],
   "source": [
    "1+2+3+4"
   ]
  },
  {
   "cell_type": "markdown",
   "id": "0118ad24-668c-4947-be3b-13a02029f960",
   "metadata": {},
   "source": [
    "# hola"
   ]
  },
  {
   "cell_type": "markdown",
   "id": "4fe740cb-8b28-49cb-9e0e-cf7664304d41",
   "metadata": {},
   "source": [
    "1+2"
   ]
  },
  {
   "cell_type": "markdown",
   "id": "0941a57f-cc96-4015-ad73-6dc48fce00ce",
   "metadata": {},
   "source": [
    "## display last one❗"
   ]
  },
  {
   "cell_type": "code",
   "execution_count": 10,
   "id": "26f1c9e4-48c1-4020-92c7-3b2c910d4e36",
   "metadata": {},
   "outputs": [
    {
     "data": {
      "text/plain": [
       "9"
      ]
     },
     "execution_count": 10,
     "metadata": {},
     "output_type": "execute_result"
    }
   ],
   "source": [
    "1*1\n",
    "2*2\n",
    "3*3"
   ]
  },
  {
   "cell_type": "markdown",
   "id": "32725ed8-7022-4936-81cc-3260323c52f6",
   "metadata": {},
   "source": [
    "## display all"
   ]
  },
  {
   "cell_type": "code",
   "execution_count": 11,
   "id": "c0f8504e-46d3-4102-bb64-e247a4584b3f",
   "metadata": {},
   "outputs": [
    {
     "name": "stdout",
     "output_type": "stream",
     "text": [
      "1\n",
      "4\n",
      "9\n"
     ]
    }
   ],
   "source": [
    "print(1*1)\n",
    "print(2*2)\n",
    "print(3*3)"
   ]
  },
  {
   "cell_type": "code",
   "execution_count": 14,
   "id": "7add1f8d-baaa-4f8e-9a2d-eca9a448bd7d",
   "metadata": {},
   "outputs": [],
   "source": [
    "import pandas as pd\n",
    "import numpy as np"
   ]
  },
  {
   "cell_type": "code",
   "execution_count": 15,
   "id": "1bdb4901-3ae9-4947-94ec-f0dc8aa8eabc",
   "metadata": {},
   "outputs": [
    {
     "data": {
      "text/plain": [
       "'2.2.1'"
      ]
     },
     "execution_count": 15,
     "metadata": {},
     "output_type": "execute_result"
    }
   ],
   "source": [
    "pd.__version__"
   ]
  },
  {
   "cell_type": "markdown",
   "id": "5cc9cdd4-6c63-42a6-a273-1e7fe89b7e17",
   "metadata": {},
   "source": [
    "## list stuff 🍔"
   ]
  },
  {
   "cell_type": "code",
   "execution_count": 16,
   "id": "09cea5f1-68dd-49d5-8502-cfe254ec7b6b",
   "metadata": {},
   "outputs": [
    {
     "data": {
      "text/plain": [
       "True"
      ]
     },
     "execution_count": 16,
     "metadata": {},
     "output_type": "execute_result"
    }
   ],
   "source": [
    "3 in [1,2,3,4]"
   ]
  },
  {
   "cell_type": "code",
   "execution_count": 18,
   "id": "87554a37-dbf8-4714-b1dd-12229ee5d35d",
   "metadata": {},
   "outputs": [
    {
     "data": {
      "text/plain": [
       "True"
      ]
     },
     "execution_count": 18,
     "metadata": {},
     "output_type": "execute_result"
    }
   ],
   "source": [
    "7 not in [1,2,3,4,5,6]\n"
   ]
  },
  {
   "cell_type": "code",
   "execution_count": null,
   "id": "0dc34e39-3b68-4108-9641-257e1ebc219c",
   "metadata": {},
   "outputs": [],
   "source": []
  },
  {
   "cell_type": "markdown",
   "id": "217ba830-dd2c-4b2a-a510-b73b11da7d77",
   "metadata": {},
   "source": [
    "## PEMDAS (parens, exponents, multiplication, division, addition, substraction) 😱\n",
    "\n"
   ]
  },
  {
   "cell_type": "code",
   "execution_count": 19,
   "id": "537b92ba-3c24-49c0-b899-fd3e8dc02476",
   "metadata": {},
   "outputs": [
    {
     "data": {
      "text/plain": [
       "-15622.5"
      ]
     },
     "execution_count": 19,
     "metadata": {},
     "output_type": "execute_result"
    }
   ],
   "source": [
    "1 + 2  * 3  / 4 - 5 ** 6 "
   ]
  },
  {
   "cell_type": "markdown",
   "id": "44859aa3-a032-4506-9724-5288c68a3175",
   "metadata": {},
   "source": [
    "## built-in 🐍"
   ]
  },
  {
   "cell_type": "code",
   "execution_count": 20,
   "id": "c9b43809-205a-4478-bda0-c19bfc5c75a6",
   "metadata": {},
   "outputs": [
    {
     "data": {
      "text/plain": [
       "['hola', 'jamon']"
      ]
     },
     "execution_count": 20,
     "metadata": {},
     "output_type": "execute_result"
    }
   ],
   "source": [
    "\"hola jamon\".split()"
   ]
  },
  {
   "cell_type": "code",
   "execution_count": 21,
   "id": "0251b31b-6e51-40b1-85d2-843934e61305",
   "metadata": {},
   "outputs": [
    {
     "data": {
      "text/plain": [
       "['hi', 'jamon']"
      ]
     },
     "execution_count": 21,
     "metadata": {},
     "output_type": "execute_result"
    }
   ],
   "source": [
    "\"hi jamon\".split(\" \")"
   ]
  },
  {
   "cell_type": "code",
   "execution_count": 22,
   "id": "4f9da204-1567-4c92-bca0-1727b99e5c41",
   "metadata": {},
   "outputs": [
    {
     "data": {
      "text/plain": [
       "['alo ', 'amon']"
      ]
     },
     "execution_count": 22,
     "metadata": {},
     "output_type": "execute_result"
    }
   ],
   "source": [
    "\"alo jamon\".split(\"j\")"
   ]
  },
  {
   "cell_type": "code",
   "execution_count": 1,
   "id": "9b9fcfe8-13d3-4675-b703-0e98988538a1",
   "metadata": {},
   "outputs": [],
   "source": [
    "la_lista = [1,2,3,4]"
   ]
  },
  {
   "cell_type": "code",
   "execution_count": 2,
   "id": "11fbc888-ae11-4b9e-8467-0c31ae60c6fb",
   "metadata": {},
   "outputs": [
    {
     "data": {
      "text/plain": [
       "[1, 2, 3, 4, '😱']"
      ]
     },
     "execution_count": 2,
     "metadata": {},
     "output_type": "execute_result"
    }
   ],
   "source": [
    "la_lista.append(\"😱\")\n",
    "la_lista"
   ]
  },
  {
   "cell_type": "code",
   "execution_count": 3,
   "id": "dbc437bb-0ab0-4588-a81a-a2c4a9cd66e2",
   "metadata": {},
   "outputs": [
    {
     "data": {
      "text/plain": [
       "[1, 2, 3, 4, '😱', 5, 6, 7]"
      ]
     },
     "execution_count": 3,
     "metadata": {},
     "output_type": "execute_result"
    }
   ],
   "source": [
    "la_lista.extend([5,6,7])\n",
    "la_lista"
   ]
  },
  {
   "cell_type": "code",
   "execution_count": 4,
   "id": "d550b543-0a7d-4215-9cd4-fb94024e6ebf",
   "metadata": {},
   "outputs": [
    {
     "data": {
      "text/plain": [
       "[1, 'added_at_1', 2, 3, 4, '😱', 5, 6, 7]"
      ]
     },
     "execution_count": 4,
     "metadata": {},
     "output_type": "execute_result"
    }
   ],
   "source": [
    "la_lista.insert(1, \"added_at_1\")\n",
    "la_lista"
   ]
  },
  {
   "cell_type": "code",
   "execution_count": 5,
   "id": "2cb4ddea-4252-4c5e-ba21-98f767e43298",
   "metadata": {},
   "outputs": [
    {
     "data": {
      "text/plain": [
       "['added_at_1', 2, 3, 4, '😱', 5, 6, 7]"
      ]
     },
     "execution_count": 5,
     "metadata": {},
     "output_type": "execute_result"
    }
   ],
   "source": [
    "la_lista.remove(1)\n",
    "la_lista"
   ]
  },
  {
   "cell_type": "code",
   "execution_count": 6,
   "id": "5103be6e-b265-440f-9cdf-3e5479c0ab6e",
   "metadata": {},
   "outputs": [
    {
     "data": {
      "text/plain": [
       "['added_at_1', 2, 3, 4, '😱', 5, 6]"
      ]
     },
     "execution_count": 6,
     "metadata": {},
     "output_type": "execute_result"
    }
   ],
   "source": [
    "la_lista.pop()\n",
    "la_lista"
   ]
  },
  {
   "cell_type": "code",
   "execution_count": 7,
   "id": "087fbfb7-d61f-49c5-b02e-d5825e6db830",
   "metadata": {},
   "outputs": [
    {
     "data": {
      "text/plain": [
       "['added_at_1', 2, 3, 4, '😱', 5]"
      ]
     },
     "execution_count": 7,
     "metadata": {},
     "output_type": "execute_result"
    }
   ],
   "source": [
    "la_lista.pop(-1)\n",
    "la_lista"
   ]
  },
  {
   "cell_type": "code",
   "execution_count": 8,
   "id": "54941d36-8e78-4c97-8116-c1249419aba6",
   "metadata": {},
   "outputs": [
    {
     "data": {
      "text/plain": [
       "[5, '😱', 4, 3, 2, 'added_at_1']"
      ]
     },
     "execution_count": 8,
     "metadata": {},
     "output_type": "execute_result"
    }
   ],
   "source": [
    "la_lista.reverse()\n",
    "la_lista"
   ]
  },
  {
   "cell_type": "code",
   "execution_count": 9,
   "id": "b758d762-8bac-42aa-ad7a-287a6f4c5f0c",
   "metadata": {},
   "outputs": [
    {
     "name": "stdout",
     "output_type": "stream",
     "text": [
      "True\n",
      "True\n",
      "True\n",
      "False\n"
     ]
    }
   ],
   "source": [
    "word = \"jamon alo\"\n",
    "\n",
    "print(\"jamon\" in word)\n",
    "print(\"mon\" in word)\n",
    "print(\"alo\" in word)\n",
    "print(\"Alo\" in word)"
   ]
  },
  {
   "cell_type": "code",
   "execution_count": null,
   "id": "16b003d8-c95a-45d3-ab15-36372b639df0",
   "metadata": {},
   "outputs": [],
   "source": []
  }
 ],
 "metadata": {
  "kernelspec": {
   "display_name": "Python 3 (ipykernel)",
   "language": "python",
   "name": "python3"
  },
  "language_info": {
   "codemirror_mode": {
    "name": "ipython",
    "version": 3
   },
   "file_extension": ".py",
   "mimetype": "text/x-python",
   "name": "python",
   "nbconvert_exporter": "python",
   "pygments_lexer": "ipython3",
   "version": "3.11.8"
  }
 },
 "nbformat": 4,
 "nbformat_minor": 5
}
