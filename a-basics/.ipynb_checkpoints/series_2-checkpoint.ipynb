{
 "cells": [
  {
   "cell_type": "code",
   "execution_count": 1,
   "id": "4ed837bd-e997-4cf8-a84c-89170a7b284c",
   "metadata": {},
   "outputs": [],
   "source": [
    "import pandas as pd\n",
    "import numpy as np"
   ]
  },
  {
   "cell_type": "code",
   "execution_count": 2,
   "id": "7caf4f09-d1ce-470d-9afe-b7cf5724751f",
   "metadata": {},
   "outputs": [],
   "source": [
    "prices = [100, 200, 30]\n",
    "items = ['caca', 'coca', 'coco']"
   ]
  },
  {
   "cell_type": "code",
   "execution_count": 3,
   "id": "b9ef9121-0bc1-4f46-be93-03d7df27bbe1",
   "metadata": {},
   "outputs": [
    {
     "data": {
      "text/plain": [
       "caca    100\n",
       "coca    200\n",
       "coco     30\n",
       "Name: jamon, dtype: int64"
      ]
     },
     "execution_count": 3,
     "metadata": {},
     "output_type": "execute_result"
    }
   ],
   "source": [
    "serie = pd.Series(data=prices, index=items, name='jamon')\n",
    "serie"
   ]
  },
  {
   "cell_type": "code",
   "execution_count": 4,
   "id": "6f897d02-081f-4f9d-9822-21522b234f50",
   "metadata": {},
   "outputs": [
    {
     "data": {
      "text/plain": [
       "0    4\n",
       "1    5\n",
       "2    6\n",
       "dtype: int16"
      ]
     },
     "execution_count": 4,
     "metadata": {},
     "output_type": "execute_result"
    }
   ],
   "source": [
    "nums = [4,5,6]\n",
    "serie = pd.Series(nums, dtype=np.int16)\n",
    "serie"
   ]
  },
  {
   "cell_type": "code",
   "execution_count": 5,
   "id": "9b980b0d-7bc7-4ac7-9ea3-c60a407c9a5e",
   "metadata": {},
   "outputs": [
    {
     "data": {
      "text/plain": [
       "0     alo\n",
       "1    hola\n",
       "dtype: object"
      ]
     },
     "execution_count": 5,
     "metadata": {},
     "output_type": "execute_result"
    }
   ],
   "source": [
    "words = ['alo', 'hola']\n",
    "serie = pd.Series(words, dtype=str)\n",
    "serie"
   ]
  },
  {
   "cell_type": "code",
   "execution_count": 6,
   "id": "055109fb-82b2-43ee-ad86-555e6682a648",
   "metadata": {},
   "outputs": [
    {
     "data": {
      "text/html": [
       "<div>\n",
       "<style scoped>\n",
       "    .dataframe tbody tr th:only-of-type {\n",
       "        vertical-align: middle;\n",
       "    }\n",
       "\n",
       "    .dataframe tbody tr th {\n",
       "        vertical-align: top;\n",
       "    }\n",
       "\n",
       "    .dataframe thead th {\n",
       "        text-align: right;\n",
       "    }\n",
       "</style>\n",
       "<table border=\"1\" class=\"dataframe\">\n",
       "  <thead>\n",
       "    <tr style=\"text-align: right;\">\n",
       "      <th></th>\n",
       "      <th>job_title</th>\n",
       "    </tr>\n",
       "    <tr>\n",
       "      <th>title</th>\n",
       "      <th></th>\n",
       "    </tr>\n",
       "  </thead>\n",
       "  <tbody>\n",
       "    <tr>\n",
       "      <th>Jose Portilla</th>\n",
       "      <td>Head of Data Science at Pierian Training</td>\n",
       "    </tr>\n",
       "    <tr>\n",
       "      <th>Dr. Angela Yu</th>\n",
       "      <td>Developer and Lead Instructor</td>\n",
       "    </tr>\n",
       "    <tr>\n",
       "      <th>Colt Steele</th>\n",
       "      <td>Developer and Bootcamp Instructor</td>\n",
       "    </tr>\n",
       "    <tr>\n",
       "      <th>Maximilian Schwarzmüller</th>\n",
       "      <td>AWS certified, Professional Web Developer and ...</td>\n",
       "    </tr>\n",
       "    <tr>\n",
       "      <th>Tim Buchalka</th>\n",
       "      <td>Java Python Android and C# Expert Developer - ...</td>\n",
       "    </tr>\n",
       "    <tr>\n",
       "      <th>...</th>\n",
       "      <td>...</td>\n",
       "    </tr>\n",
       "    <tr>\n",
       "      <th>Marc-Nesly Delmot</th>\n",
       "      <td>singer songwriter</td>\n",
       "    </tr>\n",
       "    <tr>\n",
       "      <th>Gabriel Budemberg</th>\n",
       "      <td>Instrutor de Produção Musical</td>\n",
       "    </tr>\n",
       "    <tr>\n",
       "      <th>Rafael Dos Santos Buffon</th>\n",
       "      <td>Pedagogo</td>\n",
       "    </tr>\n",
       "    <tr>\n",
       "      <th>Adrin Wendt</th>\n",
       "      <td>Pianist/ Online- und Offline-Klavierlehrer</td>\n",
       "    </tr>\n",
       "    <tr>\n",
       "      <th>Viktor Kaminskiy</th>\n",
       "      <td>Music Composition, Music Producing, Orchestration</td>\n",
       "    </tr>\n",
       "  </tbody>\n",
       "</table>\n",
       "<p>32233 rows × 1 columns</p>\n",
       "</div>"
      ],
      "text/plain": [
       "                                                                  job_title\n",
       "title                                                                      \n",
       "Jose Portilla                      Head of Data Science at Pierian Training\n",
       "Dr. Angela Yu                                 Developer and Lead Instructor\n",
       "Colt Steele                               Developer and Bootcamp Instructor\n",
       "Maximilian Schwarzmüller  AWS certified, Professional Web Developer and ...\n",
       "Tim Buchalka              Java Python Android and C# Expert Developer - ...\n",
       "...                                                                     ...\n",
       "Marc-Nesly Delmot                                         singer songwriter\n",
       "Gabriel Budemberg                             Instrutor de Produção Musical\n",
       "Rafael Dos Santos Buffon                                           Pedagogo\n",
       "Adrin Wendt                      Pianist/ Online- und Offline-Klavierlehrer\n",
       "Viktor Kaminskiy          Music Composition, Music Producing, Orchestration\n",
       "\n",
       "[32233 rows x 1 columns]"
      ]
     },
     "execution_count": 6,
     "metadata": {},
     "output_type": "execute_result"
    }
   ],
   "source": [
    "df = pd.read_csv('instructors.csv', header=0, index_col='title', usecols=['title', 'job_title'])\n",
    "df"
   ]
  },
  {
   "cell_type": "code",
   "execution_count": 7,
   "id": "f974c897-099e-49b9-8e66-f3b51c858061",
   "metadata": {},
   "outputs": [
    {
     "data": {
      "text/plain": [
       "32233"
      ]
     },
     "execution_count": 7,
     "metadata": {},
     "output_type": "execute_result"
    }
   ],
   "source": [
    "len(df)"
   ]
  },
  {
   "cell_type": "code",
   "execution_count": 8,
   "id": "712f78a0-3a18-4d8b-b96a-537e35728474",
   "metadata": {},
   "outputs": [
    {
     "data": {
      "text/plain": [
       "job_title                              \n",
       "Instructor                                 265\n",
       "Software Engineer                          144\n",
       "Professor                                   76\n",
       "Engineer                                    75\n",
       "Software Developer                          57\n",
       "                                          ... \n",
       "FPGA Designer and VHDL Programmer            1\n",
       "FPGA Design Company                          1\n",
       "FPGA / ASIC Design Engineer                  1\n",
       "FPGA * VHDL * MATLAB Enthusiast              1\n",
       "ＸＢＡＳＥ・ＶＢＡ・システム開発・初心者向けＩＴ教育・新しい分野を見つけること      1\n",
       "Name: count, Length: 27920, dtype: int64"
      ]
     },
     "execution_count": 8,
     "metadata": {},
     "output_type": "execute_result"
    }
   ],
   "source": [
    "df.value_counts()"
   ]
  },
  {
   "cell_type": "code",
   "execution_count": 9,
   "id": "d9117825-95f5-43b3-8242-80f1c009c408",
   "metadata": {},
   "outputs": [
    {
     "data": {
      "text/html": [
       "<div>\n",
       "<style scoped>\n",
       "    .dataframe tbody tr th:only-of-type {\n",
       "        vertical-align: middle;\n",
       "    }\n",
       "\n",
       "    .dataframe tbody tr th {\n",
       "        vertical-align: top;\n",
       "    }\n",
       "\n",
       "    .dataframe thead th {\n",
       "        text-align: right;\n",
       "    }\n",
       "</style>\n",
       "<table border=\"1\" class=\"dataframe\">\n",
       "  <thead>\n",
       "    <tr style=\"text-align: right;\">\n",
       "      <th></th>\n",
       "      <th>job_title</th>\n",
       "    </tr>\n",
       "  </thead>\n",
       "  <tbody>\n",
       "    <tr>\n",
       "      <th>count</th>\n",
       "      <td>32155</td>\n",
       "    </tr>\n",
       "    <tr>\n",
       "      <th>unique</th>\n",
       "      <td>27920</td>\n",
       "    </tr>\n",
       "    <tr>\n",
       "      <th>top</th>\n",
       "      <td>Instructor</td>\n",
       "    </tr>\n",
       "    <tr>\n",
       "      <th>freq</th>\n",
       "      <td>265</td>\n",
       "    </tr>\n",
       "  </tbody>\n",
       "</table>\n",
       "</div>"
      ],
      "text/plain": [
       "         job_title\n",
       "count        32155\n",
       "unique       27920\n",
       "top     Instructor\n",
       "freq           265"
      ]
     },
     "execution_count": 9,
     "metadata": {},
     "output_type": "execute_result"
    }
   ],
   "source": [
    "df.describe()"
   ]
  },
  {
   "cell_type": "code",
   "execution_count": 10,
   "id": "3bfa9814-fe2c-4f09-a9b6-db952201deda",
   "metadata": {},
   "outputs": [
    {
     "data": {
      "text/html": [
       "<div>\n",
       "<style scoped>\n",
       "    .dataframe tbody tr th:only-of-type {\n",
       "        vertical-align: middle;\n",
       "    }\n",
       "\n",
       "    .dataframe tbody tr th {\n",
       "        vertical-align: top;\n",
       "    }\n",
       "\n",
       "    .dataframe thead th {\n",
       "        text-align: right;\n",
       "    }\n",
       "</style>\n",
       "<table border=\"1\" class=\"dataframe\">\n",
       "  <thead>\n",
       "    <tr style=\"text-align: right;\">\n",
       "      <th></th>\n",
       "      <th>job_title</th>\n",
       "    </tr>\n",
       "    <tr>\n",
       "      <th>title</th>\n",
       "      <th></th>\n",
       "    </tr>\n",
       "  </thead>\n",
       "  <tbody>\n",
       "    <tr>\n",
       "      <th>浅井 良一</th>\n",
       "      <td>ＸＢＡＳＥ・ＶＢＡ・システム開発・初心者向けＩＴ教育・新しい分野を見つけること</td>\n",
       "    </tr>\n",
       "    <tr>\n",
       "      <th>洋二 奥川</th>\n",
       "      <td>Ｏ脚改善、姿勢改善、不定愁訴の改善、体幹トレーニング、身体操作</td>\n",
       "    </tr>\n",
       "    <tr>\n",
       "      <th>藤田 泰仁</th>\n",
       "      <td>３つの健康専門家</td>\n",
       "    </tr>\n",
       "    <tr>\n",
       "      <th>3DRI 金子</th>\n",
       "      <td>３Dソリューションコンサルタント</td>\n",
       "    </tr>\n",
       "    <tr>\n",
       "      <th>더나은삶TV Betterlife</th>\n",
       "      <td>회계사, 유튜버</td>\n",
       "    </tr>\n",
       "    <tr>\n",
       "      <th>...</th>\n",
       "      <td>...</td>\n",
       "    </tr>\n",
       "    <tr>\n",
       "      <th>Gustavo G</th>\n",
       "      <td>NaN</td>\n",
       "    </tr>\n",
       "    <tr>\n",
       "      <th>Gemma Louise Marinus</th>\n",
       "      <td>NaN</td>\n",
       "    </tr>\n",
       "    <tr>\n",
       "      <th>StrumSchool Shapiro</th>\n",
       "      <td>NaN</td>\n",
       "    </tr>\n",
       "    <tr>\n",
       "      <th>Luis Portal</th>\n",
       "      <td>NaN</td>\n",
       "    </tr>\n",
       "    <tr>\n",
       "      <th>Rafael Santiago Araujo de Lima</th>\n",
       "      <td>NaN</td>\n",
       "    </tr>\n",
       "  </tbody>\n",
       "</table>\n",
       "<p>32233 rows × 1 columns</p>\n",
       "</div>"
      ],
      "text/plain": [
       "                                                              job_title\n",
       "title                                                                  \n",
       "浅井 良一                           ＸＢＡＳＥ・ＶＢＡ・システム開発・初心者向けＩＴ教育・新しい分野を見つけること\n",
       "洋二 奥川                                   Ｏ脚改善、姿勢改善、不定愁訴の改善、体幹トレーニング、身体操作\n",
       "藤田 泰仁                                                          ３つの健康専門家\n",
       "3DRI 金子                                                ３Dソリューションコンサルタント\n",
       "더나은삶TV Betterlife                                              회계사, 유튜버\n",
       "...                                                                 ...\n",
       "Gustavo G                                                           NaN\n",
       "Gemma Louise Marinus                                                NaN\n",
       "StrumSchool Shapiro                                                 NaN\n",
       "Luis Portal                                                         NaN\n",
       "Rafael Santiago Araujo de Lima                                      NaN\n",
       "\n",
       "[32233 rows x 1 columns]"
      ]
     },
     "execution_count": 10,
     "metadata": {},
     "output_type": "execute_result"
    }
   ],
   "source": [
    "df.sort_values(ascending=False, by='job_title')"
   ]
  },
  {
   "cell_type": "markdown",
   "id": "a8e59e65-f266-48b9-a89e-bb68213dfd8a",
   "metadata": {},
   "source": [
    "## find by key 🍕"
   ]
  },
  {
   "cell_type": "code",
   "execution_count": 11,
   "id": "a08efa43-aa28-4645-a982-d7528bdd8f53",
   "metadata": {},
   "outputs": [
    {
     "data": {
      "text/plain": [
       "job_title    Developer and Bootcamp Instructor\n",
       "Name: Colt Steele, dtype: object"
      ]
     },
     "execution_count": 11,
     "metadata": {},
     "output_type": "execute_result"
    }
   ],
   "source": [
    " df.loc['Colt Steele']"
   ]
  },
  {
   "cell_type": "code",
   "execution_count": 12,
   "id": "a91f4ccc-9b55-4e58-9381-1fab3e2733cc",
   "metadata": {},
   "outputs": [
    {
     "data": {
      "text/plain": [
       "job_title    Developer and Bootcamp Instructor\n",
       "Name: Colt Steele, dtype: object"
      ]
     },
     "execution_count": 12,
     "metadata": {},
     "output_type": "execute_result"
    }
   ],
   "source": [
    "df.iloc[2]"
   ]
  },
  {
   "cell_type": "code",
   "execution_count": 13,
   "id": "b16aa33e-40f6-4fd1-b6db-a73de5aab980",
   "metadata": {},
   "outputs": [
    {
     "data": {
      "text/plain": [
       "'Developer and Bootcamp Instructor'"
      ]
     },
     "execution_count": 13,
     "metadata": {},
     "output_type": "execute_result"
    }
   ],
   "source": [
    "df.get(['job_title'])\n",
    "set = df['job_title']\n",
    "set.get('Colt Steele')"
   ]
  },
  {
   "cell_type": "markdown",
   "id": "dbbbb116-d24b-4fbc-9145-acca2aa3de0f",
   "metadata": {},
   "source": [
    "## find by value 🍔"
   ]
  },
  {
   "cell_type": "code",
   "execution_count": 14,
   "id": "2bbb92fa-afbe-4717-a174-d05cfef5029e",
   "metadata": {},
   "outputs": [
    {
     "data": {
      "text/html": [
       "<div>\n",
       "<style scoped>\n",
       "    .dataframe tbody tr th:only-of-type {\n",
       "        vertical-align: middle;\n",
       "    }\n",
       "\n",
       "    .dataframe tbody tr th {\n",
       "        vertical-align: top;\n",
       "    }\n",
       "\n",
       "    .dataframe thead th {\n",
       "        text-align: right;\n",
       "    }\n",
       "</style>\n",
       "<table border=\"1\" class=\"dataframe\">\n",
       "  <thead>\n",
       "    <tr style=\"text-align: right;\">\n",
       "      <th></th>\n",
       "      <th>job_title</th>\n",
       "    </tr>\n",
       "    <tr>\n",
       "      <th>title</th>\n",
       "      <th></th>\n",
       "    </tr>\n",
       "  </thead>\n",
       "  <tbody>\n",
       "    <tr>\n",
       "      <th>Sana Maqsood</th>\n",
       "      <td>Udemy Instructor</td>\n",
       "    </tr>\n",
       "    <tr>\n",
       "      <th>Alina M</th>\n",
       "      <td>Udemy Instructor</td>\n",
       "    </tr>\n",
       "    <tr>\n",
       "      <th>Ross Zeiger</th>\n",
       "      <td>Udemy Instructor</td>\n",
       "    </tr>\n",
       "  </tbody>\n",
       "</table>\n",
       "</div>"
      ],
      "text/plain": [
       "                     job_title\n",
       "title                         \n",
       "Sana Maqsood  Udemy Instructor\n",
       "Alina M       Udemy Instructor\n",
       "Ross Zeiger   Udemy Instructor"
      ]
     },
     "execution_count": 14,
     "metadata": {},
     "output_type": "execute_result"
    }
   ],
   "source": [
    "index_label = df[df['job_title'] == 'Udemy Instructor']\n",
    "index_label"
   ]
  },
  {
   "cell_type": "code",
   "execution_count": 15,
   "id": "e945f381-61bc-4459-b934-227d712aad81",
   "metadata": {},
   "outputs": [
    {
     "data": {
      "text/html": [
       "<div>\n",
       "<style scoped>\n",
       "    .dataframe tbody tr th:only-of-type {\n",
       "        vertical-align: middle;\n",
       "    }\n",
       "\n",
       "    .dataframe tbody tr th {\n",
       "        vertical-align: top;\n",
       "    }\n",
       "\n",
       "    .dataframe thead th {\n",
       "        text-align: right;\n",
       "    }\n",
       "</style>\n",
       "<table border=\"1\" class=\"dataframe\">\n",
       "  <thead>\n",
       "    <tr style=\"text-align: right;\">\n",
       "      <th></th>\n",
       "      <th>job_title</th>\n",
       "    </tr>\n",
       "    <tr>\n",
       "      <th>title</th>\n",
       "      <th></th>\n",
       "    </tr>\n",
       "  </thead>\n",
       "  <tbody>\n",
       "    <tr>\n",
       "      <th>Mohammad Khan</th>\n",
       "      <td>Udemy instructor</td>\n",
       "    </tr>\n",
       "  </tbody>\n",
       "</table>\n",
       "</div>"
      ],
      "text/plain": [
       "                      job_title\n",
       "title                          \n",
       "Mohammad Khan  Udemy instructor"
      ]
     },
     "execution_count": 15,
     "metadata": {},
     "output_type": "execute_result"
    }
   ],
   "source": [
    "index_label = df[df['job_title'] == 'Udemy instructor']\n",
    "index_label"
   ]
  },
  {
   "cell_type": "markdown",
   "id": "efb2e660-db06-4bb5-ae89-870fc280fe01",
   "metadata": {},
   "source": [
    "## ✨trick time"
   ]
  },
  {
   "cell_type": "code",
   "execution_count": 16,
   "id": "96083225-6d38-4253-b95d-36e007d19642",
   "metadata": {},
   "outputs": [],
   "source": [
    "df['lower_job_title'] = df['job_title'].str.lower()"
   ]
  },
  {
   "cell_type": "code",
   "execution_count": 17,
   "id": "d579b816-bec6-4fd4-857a-4a6f9afeec28",
   "metadata": {},
   "outputs": [
    {
     "data": {
      "text/html": [
       "<div>\n",
       "<style scoped>\n",
       "    .dataframe tbody tr th:only-of-type {\n",
       "        vertical-align: middle;\n",
       "    }\n",
       "\n",
       "    .dataframe tbody tr th {\n",
       "        vertical-align: top;\n",
       "    }\n",
       "\n",
       "    .dataframe thead th {\n",
       "        text-align: right;\n",
       "    }\n",
       "</style>\n",
       "<table border=\"1\" class=\"dataframe\">\n",
       "  <thead>\n",
       "    <tr style=\"text-align: right;\">\n",
       "      <th></th>\n",
       "      <th>job_title</th>\n",
       "      <th>lower_job_title</th>\n",
       "    </tr>\n",
       "    <tr>\n",
       "      <th>title</th>\n",
       "      <th></th>\n",
       "      <th></th>\n",
       "    </tr>\n",
       "  </thead>\n",
       "  <tbody>\n",
       "    <tr>\n",
       "      <th>Sana Maqsood</th>\n",
       "      <td>Udemy Instructor</td>\n",
       "      <td>udemy instructor</td>\n",
       "    </tr>\n",
       "    <tr>\n",
       "      <th>Mohammad Khan</th>\n",
       "      <td>Udemy instructor</td>\n",
       "      <td>udemy instructor</td>\n",
       "    </tr>\n",
       "    <tr>\n",
       "      <th>Alina M</th>\n",
       "      <td>Udemy Instructor</td>\n",
       "      <td>udemy instructor</td>\n",
       "    </tr>\n",
       "    <tr>\n",
       "      <th>Ross Zeiger</th>\n",
       "      <td>Udemy Instructor</td>\n",
       "      <td>udemy instructor</td>\n",
       "    </tr>\n",
       "  </tbody>\n",
       "</table>\n",
       "</div>"
      ],
      "text/plain": [
       "                      job_title   lower_job_title\n",
       "title                                            \n",
       "Sana Maqsood   Udemy Instructor  udemy instructor\n",
       "Mohammad Khan  Udemy instructor  udemy instructor\n",
       "Alina M        Udemy Instructor  udemy instructor\n",
       "Ross Zeiger    Udemy Instructor  udemy instructor"
      ]
     },
     "execution_count": 17,
     "metadata": {},
     "output_type": "execute_result"
    }
   ],
   "source": [
    "index_label = df[df['lower_job_title'] == 'udemy instructor']\n",
    "index_label"
   ]
  },
  {
   "cell_type": "markdown",
   "id": "25c6c399-42ff-45db-a233-f475973a05e9",
   "metadata": {},
   "source": [
    "## concatenation"
   ]
  },
  {
   "cell_type": "code",
   "execution_count": 18,
   "id": "b0558850-d1a3-418c-8827-8c15fc5fdee5",
   "metadata": {},
   "outputs": [],
   "source": [
    "def concat_jamon(text):\n",
    "    return text + \" jamon\""
   ]
  },
  {
   "cell_type": "code",
   "execution_count": 20,
   "id": "d02bc66b-a464-4a3b-81ab-de2780163389",
   "metadata": {},
   "outputs": [
    {
     "data": {
      "text/html": [
       "<div>\n",
       "<style scoped>\n",
       "    .dataframe tbody tr th:only-of-type {\n",
       "        vertical-align: middle;\n",
       "    }\n",
       "\n",
       "    .dataframe tbody tr th {\n",
       "        vertical-align: top;\n",
       "    }\n",
       "\n",
       "    .dataframe thead th {\n",
       "        text-align: right;\n",
       "    }\n",
       "</style>\n",
       "<table border=\"1\" class=\"dataframe\">\n",
       "  <thead>\n",
       "    <tr style=\"text-align: right;\">\n",
       "      <th></th>\n",
       "      <th>job_title</th>\n",
       "      <th>lower_job_title</th>\n",
       "    </tr>\n",
       "    <tr>\n",
       "      <th>title</th>\n",
       "      <th></th>\n",
       "      <th></th>\n",
       "    </tr>\n",
       "  </thead>\n",
       "  <tbody>\n",
       "    <tr>\n",
       "      <th>Jose Portilla</th>\n",
       "      <td>Head of Data Science at Pierian Training jamon...</td>\n",
       "      <td>head of data science at pierian training jamon...</td>\n",
       "    </tr>\n",
       "    <tr>\n",
       "      <th>Dr. Angela Yu</th>\n",
       "      <td>Developer and Lead Instructor jamon jamon</td>\n",
       "      <td>developer and lead instructor jamon jamon</td>\n",
       "    </tr>\n",
       "    <tr>\n",
       "      <th>Colt Steele</th>\n",
       "      <td>Developer and Bootcamp Instructor jamon jamon</td>\n",
       "      <td>developer and bootcamp instructor jamon jamon</td>\n",
       "    </tr>\n",
       "    <tr>\n",
       "      <th>Maximilian Schwarzmüller</th>\n",
       "      <td>AWS certified, Professional Web Developer and ...</td>\n",
       "      <td>aws certified, professional web developer and ...</td>\n",
       "    </tr>\n",
       "    <tr>\n",
       "      <th>Tim Buchalka</th>\n",
       "      <td>Java Python Android and C# Expert Developer - ...</td>\n",
       "      <td>java python android and c# expert developer - ...</td>\n",
       "    </tr>\n",
       "    <tr>\n",
       "      <th>...</th>\n",
       "      <td>...</td>\n",
       "      <td>...</td>\n",
       "    </tr>\n",
       "    <tr>\n",
       "      <th>Marc-Nesly Delmot</th>\n",
       "      <td>singer songwriter jamon jamon</td>\n",
       "      <td>singer songwriter jamon jamon</td>\n",
       "    </tr>\n",
       "    <tr>\n",
       "      <th>Gabriel Budemberg</th>\n",
       "      <td>Instrutor de Produção Musical jamon jamon</td>\n",
       "      <td>instrutor de produção musical jamon jamon</td>\n",
       "    </tr>\n",
       "    <tr>\n",
       "      <th>Rafael Dos Santos Buffon</th>\n",
       "      <td>Pedagogo jamon jamon</td>\n",
       "      <td>pedagogo jamon jamon</td>\n",
       "    </tr>\n",
       "    <tr>\n",
       "      <th>Adrin Wendt</th>\n",
       "      <td>Pianist/ Online- und Offline-Klavierlehrer jam...</td>\n",
       "      <td>pianist/ online- und offline-klavierlehrer jam...</td>\n",
       "    </tr>\n",
       "    <tr>\n",
       "      <th>Viktor Kaminskiy</th>\n",
       "      <td>Music Composition, Music Producing, Orchestrat...</td>\n",
       "      <td>music composition, music producing, orchestrat...</td>\n",
       "    </tr>\n",
       "  </tbody>\n",
       "</table>\n",
       "<p>32233 rows × 2 columns</p>\n",
       "</div>"
      ],
      "text/plain": [
       "                                                                  job_title  \\\n",
       "title                                                                         \n",
       "Jose Portilla             Head of Data Science at Pierian Training jamon...   \n",
       "Dr. Angela Yu                     Developer and Lead Instructor jamon jamon   \n",
       "Colt Steele                   Developer and Bootcamp Instructor jamon jamon   \n",
       "Maximilian Schwarzmüller  AWS certified, Professional Web Developer and ...   \n",
       "Tim Buchalka              Java Python Android and C# Expert Developer - ...   \n",
       "...                                                                     ...   \n",
       "Marc-Nesly Delmot                             singer songwriter jamon jamon   \n",
       "Gabriel Budemberg                 Instrutor de Produção Musical jamon jamon   \n",
       "Rafael Dos Santos Buffon                               Pedagogo jamon jamon   \n",
       "Adrin Wendt               Pianist/ Online- und Offline-Klavierlehrer jam...   \n",
       "Viktor Kaminskiy          Music Composition, Music Producing, Orchestrat...   \n",
       "\n",
       "                                                            lower_job_title  \n",
       "title                                                                        \n",
       "Jose Portilla             head of data science at pierian training jamon...  \n",
       "Dr. Angela Yu                     developer and lead instructor jamon jamon  \n",
       "Colt Steele                   developer and bootcamp instructor jamon jamon  \n",
       "Maximilian Schwarzmüller  aws certified, professional web developer and ...  \n",
       "Tim Buchalka              java python android and c# expert developer - ...  \n",
       "...                                                                     ...  \n",
       "Marc-Nesly Delmot                             singer songwriter jamon jamon  \n",
       "Gabriel Budemberg                 instrutor de produção musical jamon jamon  \n",
       "Rafael Dos Santos Buffon                               pedagogo jamon jamon  \n",
       "Adrin Wendt               pianist/ online- und offline-klavierlehrer jam...  \n",
       "Viktor Kaminskiy          music composition, music producing, orchestrat...  \n",
       "\n",
       "[32233 rows x 2 columns]"
      ]
     },
     "execution_count": 20,
     "metadata": {},
     "output_type": "execute_result"
    }
   ],
   "source": [
    "df = df.apply(concat_jamon)\n",
    "df"
   ]
  },
  {
   "cell_type": "markdown",
   "id": "eb117f48-a7c5-433b-a61d-bb9c93f8ac61",
   "metadata": {},
   "source": [
    "## todo❗ clean data"
   ]
  },
  {
   "cell_type": "code",
   "execution_count": 21,
   "id": "dc89ca80-bd05-4127-9ddf-a366bbe1a83c",
   "metadata": {},
   "outputs": [],
   "source": [
    "# my series contain a nan, what are my options in a pandas series, \n",
    "# there are several popular options to handle them, and how to clean that data,\n",
    "# list popular options in a tabular format"
   ]
  },
  {
   "cell_type": "code",
   "execution_count": null,
   "id": "ee11c9fe-5629-4423-bfb2-de488b1d51f2",
   "metadata": {},
   "outputs": [],
   "source": []
  },
  {
   "cell_type": "code",
   "execution_count": null,
   "id": "a689d002-4ac6-476c-94d4-1b780ac27b69",
   "metadata": {},
   "outputs": [],
   "source": []
  }
 ],
 "metadata": {
  "kernelspec": {
   "display_name": "Python 3 (ipykernel)",
   "language": "python",
   "name": "python3"
  },
  "language_info": {
   "codemirror_mode": {
    "name": "ipython",
    "version": 3
   },
   "file_extension": ".py",
   "mimetype": "text/x-python",
   "name": "python",
   "nbconvert_exporter": "python",
   "pygments_lexer": "ipython3",
   "version": "3.11.8"
  }
 },
 "nbformat": 4,
 "nbformat_minor": 5
}
