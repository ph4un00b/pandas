{
 "cells": [
  {
   "cell_type": "code",
   "execution_count": 6,
   "id": "4ed837bd-e997-4cf8-a84c-89170a7b284c",
   "metadata": {},
   "outputs": [],
   "source": [
    "import pandas as pd\n",
    "import numpy as np"
   ]
  },
  {
   "cell_type": "code",
   "execution_count": 7,
   "id": "7caf4f09-d1ce-470d-9afe-b7cf5724751f",
   "metadata": {},
   "outputs": [],
   "source": [
    "prices = [100, 200, 30]\n",
    "items = ['caca', 'coca', 'coco']"
   ]
  },
  {
   "cell_type": "code",
   "execution_count": 8,
   "id": "b9ef9121-0bc1-4f46-be93-03d7df27bbe1",
   "metadata": {},
   "outputs": [
    {
     "data": {
      "text/plain": [
       "caca    100\n",
       "coca    200\n",
       "coco     30\n",
       "Name: jamon, dtype: int64"
      ]
     },
     "execution_count": 8,
     "metadata": {},
     "output_type": "execute_result"
    }
   ],
   "source": [
    "serie = pd.Series(data=prices, index=items, name='jamon')\n",
    "serie"
   ]
  },
  {
   "cell_type": "code",
   "execution_count": 9,
   "id": "6f897d02-081f-4f9d-9822-21522b234f50",
   "metadata": {},
   "outputs": [
    {
     "data": {
      "text/plain": [
       "0    4\n",
       "1    5\n",
       "2    6\n",
       "dtype: int16"
      ]
     },
     "execution_count": 9,
     "metadata": {},
     "output_type": "execute_result"
    }
   ],
   "source": [
    "nums = [4,5,6]\n",
    "serie = pd.Series(nums, dtype=np.int16)\n",
    "serie"
   ]
  },
  {
   "cell_type": "code",
   "execution_count": 10,
   "id": "9b980b0d-7bc7-4ac7-9ea3-c60a407c9a5e",
   "metadata": {},
   "outputs": [
    {
     "data": {
      "text/plain": [
       "0     alo\n",
       "1    hola\n",
       "dtype: object"
      ]
     },
     "execution_count": 10,
     "metadata": {},
     "output_type": "execute_result"
    }
   ],
   "source": [
    "words = ['alo', 'hola']\n",
    "serie = pd.Series(words, dtype=str)\n",
    "serie"
   ]
  },
  {
   "cell_type": "code",
   "execution_count": 13,
   "id": "055109fb-82b2-43ee-ad86-555e6682a648",
   "metadata": {},
   "outputs": [
    {
     "data": {
      "text/html": [
       "<div>\n",
       "<style scoped>\n",
       "    .dataframe tbody tr th:only-of-type {\n",
       "        vertical-align: middle;\n",
       "    }\n",
       "\n",
       "    .dataframe tbody tr th {\n",
       "        vertical-align: top;\n",
       "    }\n",
       "\n",
       "    .dataframe thead th {\n",
       "        text-align: right;\n",
       "    }\n",
       "</style>\n",
       "<table border=\"1\" class=\"dataframe\">\n",
       "  <thead>\n",
       "    <tr style=\"text-align: right;\">\n",
       "      <th></th>\n",
       "      <th>job_title</th>\n",
       "    </tr>\n",
       "    <tr>\n",
       "      <th>title</th>\n",
       "      <th></th>\n",
       "    </tr>\n",
       "  </thead>\n",
       "  <tbody>\n",
       "    <tr>\n",
       "      <th>Jose Portilla</th>\n",
       "      <td>Head of Data Science at Pierian Training</td>\n",
       "    </tr>\n",
       "    <tr>\n",
       "      <th>Dr. Angela Yu</th>\n",
       "      <td>Developer and Lead Instructor</td>\n",
       "    </tr>\n",
       "    <tr>\n",
       "      <th>Colt Steele</th>\n",
       "      <td>Developer and Bootcamp Instructor</td>\n",
       "    </tr>\n",
       "    <tr>\n",
       "      <th>Maximilian Schwarzmüller</th>\n",
       "      <td>AWS certified, Professional Web Developer and ...</td>\n",
       "    </tr>\n",
       "    <tr>\n",
       "      <th>Tim Buchalka</th>\n",
       "      <td>Java Python Android and C# Expert Developer - ...</td>\n",
       "    </tr>\n",
       "    <tr>\n",
       "      <th>...</th>\n",
       "      <td>...</td>\n",
       "    </tr>\n",
       "    <tr>\n",
       "      <th>Marc-Nesly Delmot</th>\n",
       "      <td>singer songwriter</td>\n",
       "    </tr>\n",
       "    <tr>\n",
       "      <th>Gabriel Budemberg</th>\n",
       "      <td>Instrutor de Produção Musical</td>\n",
       "    </tr>\n",
       "    <tr>\n",
       "      <th>Rafael Dos Santos Buffon</th>\n",
       "      <td>Pedagogo</td>\n",
       "    </tr>\n",
       "    <tr>\n",
       "      <th>Adrin Wendt</th>\n",
       "      <td>Pianist/ Online- und Offline-Klavierlehrer</td>\n",
       "    </tr>\n",
       "    <tr>\n",
       "      <th>Viktor Kaminskiy</th>\n",
       "      <td>Music Composition, Music Producing, Orchestration</td>\n",
       "    </tr>\n",
       "  </tbody>\n",
       "</table>\n",
       "<p>32233 rows × 1 columns</p>\n",
       "</div>"
      ],
      "text/plain": [
       "                                                                  job_title\n",
       "title                                                                      \n",
       "Jose Portilla                      Head of Data Science at Pierian Training\n",
       "Dr. Angela Yu                                 Developer and Lead Instructor\n",
       "Colt Steele                               Developer and Bootcamp Instructor\n",
       "Maximilian Schwarzmüller  AWS certified, Professional Web Developer and ...\n",
       "Tim Buchalka              Java Python Android and C# Expert Developer - ...\n",
       "...                                                                     ...\n",
       "Marc-Nesly Delmot                                         singer songwriter\n",
       "Gabriel Budemberg                             Instrutor de Produção Musical\n",
       "Rafael Dos Santos Buffon                                           Pedagogo\n",
       "Adrin Wendt                      Pianist/ Online- und Offline-Klavierlehrer\n",
       "Viktor Kaminskiy          Music Composition, Music Producing, Orchestration\n",
       "\n",
       "[32233 rows x 1 columns]"
      ]
     },
     "execution_count": 13,
     "metadata": {},
     "output_type": "execute_result"
    }
   ],
   "source": [
    "df = pd.read_csv('instructors.csv', header=0, index_col='title', usecols=['title', 'job_title'])\n",
    "df"
   ]
  },
  {
   "cell_type": "code",
   "execution_count": 14,
   "id": "f974c897-099e-49b9-8e66-f3b51c858061",
   "metadata": {},
   "outputs": [
    {
     "data": {
      "text/plain": [
       "32233"
      ]
     },
     "execution_count": 14,
     "metadata": {},
     "output_type": "execute_result"
    }
   ],
   "source": [
    "len(df)"
   ]
  },
  {
   "cell_type": "code",
   "execution_count": 15,
   "id": "712f78a0-3a18-4d8b-b96a-537e35728474",
   "metadata": {},
   "outputs": [
    {
     "data": {
      "text/plain": [
       "job_title                              \n",
       "Instructor                                 265\n",
       "Software Engineer                          144\n",
       "Professor                                   76\n",
       "Engineer                                    75\n",
       "Software Developer                          57\n",
       "                                          ... \n",
       "FPGA Designer and VHDL Programmer            1\n",
       "FPGA Design Company                          1\n",
       "FPGA / ASIC Design Engineer                  1\n",
       "FPGA * VHDL * MATLAB Enthusiast              1\n",
       "ＸＢＡＳＥ・ＶＢＡ・システム開発・初心者向けＩＴ教育・新しい分野を見つけること      1\n",
       "Name: count, Length: 27920, dtype: int64"
      ]
     },
     "execution_count": 15,
     "metadata": {},
     "output_type": "execute_result"
    }
   ],
   "source": [
    "df.value_counts()"
   ]
  },
  {
   "cell_type": "code",
   "execution_count": 16,
   "id": "d9117825-95f5-43b3-8242-80f1c009c408",
   "metadata": {},
   "outputs": [
    {
     "data": {
      "text/html": [
       "<div>\n",
       "<style scoped>\n",
       "    .dataframe tbody tr th:only-of-type {\n",
       "        vertical-align: middle;\n",
       "    }\n",
       "\n",
       "    .dataframe tbody tr th {\n",
       "        vertical-align: top;\n",
       "    }\n",
       "\n",
       "    .dataframe thead th {\n",
       "        text-align: right;\n",
       "    }\n",
       "</style>\n",
       "<table border=\"1\" class=\"dataframe\">\n",
       "  <thead>\n",
       "    <tr style=\"text-align: right;\">\n",
       "      <th></th>\n",
       "      <th>job_title</th>\n",
       "    </tr>\n",
       "  </thead>\n",
       "  <tbody>\n",
       "    <tr>\n",
       "      <th>count</th>\n",
       "      <td>32155</td>\n",
       "    </tr>\n",
       "    <tr>\n",
       "      <th>unique</th>\n",
       "      <td>27920</td>\n",
       "    </tr>\n",
       "    <tr>\n",
       "      <th>top</th>\n",
       "      <td>Instructor</td>\n",
       "    </tr>\n",
       "    <tr>\n",
       "      <th>freq</th>\n",
       "      <td>265</td>\n",
       "    </tr>\n",
       "  </tbody>\n",
       "</table>\n",
       "</div>"
      ],
      "text/plain": [
       "         job_title\n",
       "count        32155\n",
       "unique       27920\n",
       "top     Instructor\n",
       "freq           265"
      ]
     },
     "execution_count": 16,
     "metadata": {},
     "output_type": "execute_result"
    }
   ],
   "source": [
    "df.describe()"
   ]
  },
  {
   "cell_type": "code",
   "execution_count": 21,
   "id": "3bfa9814-fe2c-4f09-a9b6-db952201deda",
   "metadata": {},
   "outputs": [
    {
     "data": {
      "text/html": [
       "<div>\n",
       "<style scoped>\n",
       "    .dataframe tbody tr th:only-of-type {\n",
       "        vertical-align: middle;\n",
       "    }\n",
       "\n",
       "    .dataframe tbody tr th {\n",
       "        vertical-align: top;\n",
       "    }\n",
       "\n",
       "    .dataframe thead th {\n",
       "        text-align: right;\n",
       "    }\n",
       "</style>\n",
       "<table border=\"1\" class=\"dataframe\">\n",
       "  <thead>\n",
       "    <tr style=\"text-align: right;\">\n",
       "      <th></th>\n",
       "      <th>job_title</th>\n",
       "    </tr>\n",
       "    <tr>\n",
       "      <th>title</th>\n",
       "      <th></th>\n",
       "    </tr>\n",
       "  </thead>\n",
       "  <tbody>\n",
       "    <tr>\n",
       "      <th>浅井 良一</th>\n",
       "      <td>ＸＢＡＳＥ・ＶＢＡ・システム開発・初心者向けＩＴ教育・新しい分野を見つけること</td>\n",
       "    </tr>\n",
       "    <tr>\n",
       "      <th>洋二 奥川</th>\n",
       "      <td>Ｏ脚改善、姿勢改善、不定愁訴の改善、体幹トレーニング、身体操作</td>\n",
       "    </tr>\n",
       "    <tr>\n",
       "      <th>藤田 泰仁</th>\n",
       "      <td>３つの健康専門家</td>\n",
       "    </tr>\n",
       "    <tr>\n",
       "      <th>3DRI 金子</th>\n",
       "      <td>３Dソリューションコンサルタント</td>\n",
       "    </tr>\n",
       "    <tr>\n",
       "      <th>더나은삶TV Betterlife</th>\n",
       "      <td>회계사, 유튜버</td>\n",
       "    </tr>\n",
       "    <tr>\n",
       "      <th>...</th>\n",
       "      <td>...</td>\n",
       "    </tr>\n",
       "    <tr>\n",
       "      <th>Gustavo G</th>\n",
       "      <td>NaN</td>\n",
       "    </tr>\n",
       "    <tr>\n",
       "      <th>Gemma Louise Marinus</th>\n",
       "      <td>NaN</td>\n",
       "    </tr>\n",
       "    <tr>\n",
       "      <th>StrumSchool Shapiro</th>\n",
       "      <td>NaN</td>\n",
       "    </tr>\n",
       "    <tr>\n",
       "      <th>Luis Portal</th>\n",
       "      <td>NaN</td>\n",
       "    </tr>\n",
       "    <tr>\n",
       "      <th>Rafael Santiago Araujo de Lima</th>\n",
       "      <td>NaN</td>\n",
       "    </tr>\n",
       "  </tbody>\n",
       "</table>\n",
       "<p>32233 rows × 1 columns</p>\n",
       "</div>"
      ],
      "text/plain": [
       "                                                              job_title\n",
       "title                                                                  \n",
       "浅井 良一                           ＸＢＡＳＥ・ＶＢＡ・システム開発・初心者向けＩＴ教育・新しい分野を見つけること\n",
       "洋二 奥川                                   Ｏ脚改善、姿勢改善、不定愁訴の改善、体幹トレーニング、身体操作\n",
       "藤田 泰仁                                                          ３つの健康専門家\n",
       "3DRI 金子                                                ３Dソリューションコンサルタント\n",
       "더나은삶TV Betterlife                                              회계사, 유튜버\n",
       "...                                                                 ...\n",
       "Gustavo G                                                           NaN\n",
       "Gemma Louise Marinus                                                NaN\n",
       "StrumSchool Shapiro                                                 NaN\n",
       "Luis Portal                                                         NaN\n",
       "Rafael Santiago Araujo de Lima                                      NaN\n",
       "\n",
       "[32233 rows x 1 columns]"
      ]
     },
     "execution_count": 21,
     "metadata": {},
     "output_type": "execute_result"
    }
   ],
   "source": [
    "df.sort_values(ascending=False, by='job_title')"
   ]
  },
  {
   "cell_type": "code",
   "execution_count": 23,
   "id": "a08efa43-aa28-4645-a982-d7528bdd8f53",
   "metadata": {},
   "outputs": [
    {
     "data": {
      "text/plain": [
       "job_title    Developer and Bootcamp Instructor\n",
       "Name: Colt Steele, dtype: object"
      ]
     },
     "execution_count": 23,
     "metadata": {},
     "output_type": "execute_result"
    }
   ],
   "source": [
    " df.loc['Colt Steele']"
   ]
  },
  {
   "cell_type": "code",
   "execution_count": 25,
   "id": "a91f4ccc-9b55-4e58-9381-1fab3e2733cc",
   "metadata": {},
   "outputs": [
    {
     "data": {
      "text/plain": [
       "job_title    Developer and Bootcamp Instructor\n",
       "Name: Colt Steele, dtype: object"
      ]
     },
     "execution_count": 25,
     "metadata": {},
     "output_type": "execute_result"
    }
   ],
   "source": [
    "df.iloc[2]"
   ]
  },
  {
   "cell_type": "code",
   "execution_count": null,
   "id": "b16aa33e-40f6-4fd1-b6db-a73de5aab980",
   "metadata": {},
   "outputs": [],
   "source": []
  }
 ],
 "metadata": {
  "kernelspec": {
   "display_name": "Python 3 (ipykernel)",
   "language": "python",
   "name": "python3"
  },
  "language_info": {
   "codemirror_mode": {
    "name": "ipython",
    "version": 3
   },
   "file_extension": ".py",
   "mimetype": "text/x-python",
   "name": "python",
   "nbconvert_exporter": "python",
   "pygments_lexer": "ipython3",
   "version": "3.11.8"
  }
 },
 "nbformat": 4,
 "nbformat_minor": 5
}
